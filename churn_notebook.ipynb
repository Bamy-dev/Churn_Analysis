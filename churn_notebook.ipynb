{
 "cells": [
  {
   "cell_type": "markdown",
   "metadata": {},
   "source": [
    "# CHURN ANALYSIS OF A TELECOMS INDUSTRY"
   ]
  },
  {
   "cell_type": "markdown",
   "metadata": {},
   "source": [
    "churn = the measure of how many customers stop using a product or service. Churn can be measured based on actual usage or failure to renew (when the product is sold using a description model). Often evaluated for a specific period of time, there can be monthly,quarterly or annual churn rate."
   ]
  },
  {
   "cell_type": "markdown",
   "metadata": {},
   "source": [
    "## Data Exploration"
   ]
  },
  {
   "cell_type": "code",
   "execution_count": 1,
   "metadata": {},
   "outputs": [],
   "source": [
    "import pandas as pd\n",
    "import seaborn as sns\n",
    "import numpy as np\n",
    "import matplotlib.pyplot as plt"
   ]
  },
  {
   "cell_type": "code",
   "execution_count": 2,
   "metadata": {},
   "outputs": [
    {
     "data": {
      "text/html": [
       "<div>\n",
       "<style scoped>\n",
       "    .dataframe tbody tr th:only-of-type {\n",
       "        vertical-align: middle;\n",
       "    }\n",
       "\n",
       "    .dataframe tbody tr th {\n",
       "        vertical-align: top;\n",
       "    }\n",
       "\n",
       "    .dataframe thead th {\n",
       "        text-align: right;\n",
       "    }\n",
       "</style>\n",
       "<table border=\"1\" class=\"dataframe\">\n",
       "  <thead>\n",
       "    <tr style=\"text-align: right;\">\n",
       "      <th></th>\n",
       "      <th>Churn</th>\n",
       "      <th>AccountWeeks</th>\n",
       "      <th>ContractRenewal</th>\n",
       "      <th>DataPlan</th>\n",
       "      <th>DataUsage</th>\n",
       "      <th>CustServCalls</th>\n",
       "      <th>DayMins</th>\n",
       "      <th>DayCalls</th>\n",
       "      <th>MonthlyCharge</th>\n",
       "      <th>OverageFee</th>\n",
       "      <th>RoamMins</th>\n",
       "    </tr>\n",
       "  </thead>\n",
       "  <tbody>\n",
       "    <tr>\n",
       "      <th>0</th>\n",
       "      <td>0</td>\n",
       "      <td>128</td>\n",
       "      <td>1</td>\n",
       "      <td>1</td>\n",
       "      <td>2.7</td>\n",
       "      <td>1</td>\n",
       "      <td>265.1</td>\n",
       "      <td>110</td>\n",
       "      <td>89.0</td>\n",
       "      <td>9.87</td>\n",
       "      <td>10.0</td>\n",
       "    </tr>\n",
       "    <tr>\n",
       "      <th>1</th>\n",
       "      <td>0</td>\n",
       "      <td>107</td>\n",
       "      <td>1</td>\n",
       "      <td>1</td>\n",
       "      <td>3.7</td>\n",
       "      <td>1</td>\n",
       "      <td>161.6</td>\n",
       "      <td>123</td>\n",
       "      <td>82.0</td>\n",
       "      <td>9.78</td>\n",
       "      <td>13.7</td>\n",
       "    </tr>\n",
       "    <tr>\n",
       "      <th>2</th>\n",
       "      <td>0</td>\n",
       "      <td>137</td>\n",
       "      <td>1</td>\n",
       "      <td>0</td>\n",
       "      <td>0.0</td>\n",
       "      <td>0</td>\n",
       "      <td>243.4</td>\n",
       "      <td>114</td>\n",
       "      <td>52.0</td>\n",
       "      <td>6.06</td>\n",
       "      <td>12.2</td>\n",
       "    </tr>\n",
       "    <tr>\n",
       "      <th>3</th>\n",
       "      <td>0</td>\n",
       "      <td>84</td>\n",
       "      <td>0</td>\n",
       "      <td>0</td>\n",
       "      <td>0.0</td>\n",
       "      <td>2</td>\n",
       "      <td>299.4</td>\n",
       "      <td>71</td>\n",
       "      <td>57.0</td>\n",
       "      <td>3.10</td>\n",
       "      <td>6.6</td>\n",
       "    </tr>\n",
       "    <tr>\n",
       "      <th>4</th>\n",
       "      <td>0</td>\n",
       "      <td>75</td>\n",
       "      <td>0</td>\n",
       "      <td>0</td>\n",
       "      <td>0.0</td>\n",
       "      <td>3</td>\n",
       "      <td>166.7</td>\n",
       "      <td>113</td>\n",
       "      <td>41.0</td>\n",
       "      <td>7.42</td>\n",
       "      <td>10.1</td>\n",
       "    </tr>\n",
       "  </tbody>\n",
       "</table>\n",
       "</div>"
      ],
      "text/plain": [
       "   Churn  AccountWeeks  ContractRenewal  DataPlan  DataUsage  CustServCalls  \\\n",
       "0      0           128                1         1        2.7              1   \n",
       "1      0           107                1         1        3.7              1   \n",
       "2      0           137                1         0        0.0              0   \n",
       "3      0            84                0         0        0.0              2   \n",
       "4      0            75                0         0        0.0              3   \n",
       "\n",
       "   DayMins  DayCalls  MonthlyCharge  OverageFee  RoamMins  \n",
       "0    265.1       110           89.0        9.87      10.0  \n",
       "1    161.6       123           82.0        9.78      13.7  \n",
       "2    243.4       114           52.0        6.06      12.2  \n",
       "3    299.4        71           57.0        3.10       6.6  \n",
       "4    166.7       113           41.0        7.42      10.1  "
      ]
     },
     "execution_count": 2,
     "metadata": {},
     "output_type": "execute_result"
    }
   ],
   "source": [
    "df_1 = pd.read_csv(\"churn.txt\")\n",
    "df_1.head()"
   ]
  },
  {
   "cell_type": "code",
   "execution_count": 3,
   "metadata": {},
   "outputs": [
    {
     "name": "stdout",
     "output_type": "stream",
     "text": [
      "<class 'pandas.core.frame.DataFrame'>\n",
      "RangeIndex: 3333 entries, 0 to 3332\n",
      "Data columns (total 11 columns):\n",
      " #   Column           Non-Null Count  Dtype  \n",
      "---  ------           --------------  -----  \n",
      " 0   Churn            3333 non-null   int64  \n",
      " 1   AccountWeeks     3333 non-null   int64  \n",
      " 2   ContractRenewal  3333 non-null   int64  \n",
      " 3   DataPlan         3333 non-null   int64  \n",
      " 4   DataUsage        3333 non-null   float64\n",
      " 5   CustServCalls    3333 non-null   int64  \n",
      " 6   DayMins          3333 non-null   float64\n",
      " 7   DayCalls         3333 non-null   int64  \n",
      " 8   MonthlyCharge    3333 non-null   float64\n",
      " 9   OverageFee       3333 non-null   float64\n",
      " 10  RoamMins         3333 non-null   float64\n",
      "dtypes: float64(5), int64(6)\n",
      "memory usage: 286.6 KB\n"
     ]
    }
   ],
   "source": [
    "# gives the number of columns present, identifies any missing data;'non-null', identifies the data type for each column, gives the shape of the dataset\n",
    "\n",
    "df_1.info()"
   ]
  },
  {
   "cell_type": "code",
   "execution_count": 4,
   "metadata": {},
   "outputs": [
    {
     "data": {
      "text/plain": [
       "(3333, 11)"
      ]
     },
     "execution_count": 4,
     "metadata": {},
     "output_type": "execute_result"
    }
   ],
   "source": [
    "# number of rows and columns\n",
    "df_1.shape"
   ]
  },
  {
   "cell_type": "code",
   "execution_count": 5,
   "metadata": {},
   "outputs": [
    {
     "data": {
      "text/plain": [
       "Churn              0\n",
       "AccountWeeks       0\n",
       "ContractRenewal    0\n",
       "DataPlan           0\n",
       "DataUsage          0\n",
       "CustServCalls      0\n",
       "DayMins            0\n",
       "DayCalls           0\n",
       "MonthlyCharge      0\n",
       "OverageFee         0\n",
       "RoamMins           0\n",
       "dtype: int64"
      ]
     },
     "execution_count": 5,
     "metadata": {},
     "output_type": "execute_result"
    }
   ],
   "source": [
    "#  checking for missing data (further exploration)\n",
    "df_1.isnull().sum()"
   ]
  },
  {
   "cell_type": "markdown",
   "metadata": {},
   "source": [
    "## Checking For Outliers"
   ]
  },
  {
   "cell_type": "code",
   "execution_count": 6,
   "metadata": {},
   "outputs": [
    {
     "data": {
      "text/html": [
       "<div>\n",
       "<style scoped>\n",
       "    .dataframe tbody tr th:only-of-type {\n",
       "        vertical-align: middle;\n",
       "    }\n",
       "\n",
       "    .dataframe tbody tr th {\n",
       "        vertical-align: top;\n",
       "    }\n",
       "\n",
       "    .dataframe thead th {\n",
       "        text-align: right;\n",
       "    }\n",
       "</style>\n",
       "<table border=\"1\" class=\"dataframe\">\n",
       "  <thead>\n",
       "    <tr style=\"text-align: right;\">\n",
       "      <th></th>\n",
       "      <th>Churn</th>\n",
       "      <th>AccountWeeks</th>\n",
       "      <th>ContractRenewal</th>\n",
       "      <th>DataPlan</th>\n",
       "      <th>DataUsage</th>\n",
       "      <th>CustServCalls</th>\n",
       "      <th>DayMins</th>\n",
       "      <th>DayCalls</th>\n",
       "      <th>MonthlyCharge</th>\n",
       "      <th>OverageFee</th>\n",
       "      <th>RoamMins</th>\n",
       "    </tr>\n",
       "  </thead>\n",
       "  <tbody>\n",
       "    <tr>\n",
       "      <th>count</th>\n",
       "      <td>3333.000000</td>\n",
       "      <td>3333.000000</td>\n",
       "      <td>3333.000000</td>\n",
       "      <td>3333.000000</td>\n",
       "      <td>3333.000000</td>\n",
       "      <td>3333.000000</td>\n",
       "      <td>3333.000000</td>\n",
       "      <td>3333.000000</td>\n",
       "      <td>3333.000000</td>\n",
       "      <td>3333.000000</td>\n",
       "      <td>3333.000000</td>\n",
       "    </tr>\n",
       "    <tr>\n",
       "      <th>mean</th>\n",
       "      <td>0.144914</td>\n",
       "      <td>101.064806</td>\n",
       "      <td>0.903090</td>\n",
       "      <td>0.276628</td>\n",
       "      <td>0.816475</td>\n",
       "      <td>1.562856</td>\n",
       "      <td>179.775098</td>\n",
       "      <td>100.435644</td>\n",
       "      <td>56.305161</td>\n",
       "      <td>10.051488</td>\n",
       "      <td>10.237294</td>\n",
       "    </tr>\n",
       "    <tr>\n",
       "      <th>std</th>\n",
       "      <td>0.352067</td>\n",
       "      <td>39.822106</td>\n",
       "      <td>0.295879</td>\n",
       "      <td>0.447398</td>\n",
       "      <td>1.272668</td>\n",
       "      <td>1.315491</td>\n",
       "      <td>54.467389</td>\n",
       "      <td>20.069084</td>\n",
       "      <td>16.426032</td>\n",
       "      <td>2.535712</td>\n",
       "      <td>2.791840</td>\n",
       "    </tr>\n",
       "    <tr>\n",
       "      <th>min</th>\n",
       "      <td>0.000000</td>\n",
       "      <td>1.000000</td>\n",
       "      <td>0.000000</td>\n",
       "      <td>0.000000</td>\n",
       "      <td>0.000000</td>\n",
       "      <td>0.000000</td>\n",
       "      <td>0.000000</td>\n",
       "      <td>0.000000</td>\n",
       "      <td>14.000000</td>\n",
       "      <td>0.000000</td>\n",
       "      <td>0.000000</td>\n",
       "    </tr>\n",
       "    <tr>\n",
       "      <th>25%</th>\n",
       "      <td>0.000000</td>\n",
       "      <td>74.000000</td>\n",
       "      <td>1.000000</td>\n",
       "      <td>0.000000</td>\n",
       "      <td>0.000000</td>\n",
       "      <td>1.000000</td>\n",
       "      <td>143.700000</td>\n",
       "      <td>87.000000</td>\n",
       "      <td>45.000000</td>\n",
       "      <td>8.330000</td>\n",
       "      <td>8.500000</td>\n",
       "    </tr>\n",
       "    <tr>\n",
       "      <th>50%</th>\n",
       "      <td>0.000000</td>\n",
       "      <td>101.000000</td>\n",
       "      <td>1.000000</td>\n",
       "      <td>0.000000</td>\n",
       "      <td>0.000000</td>\n",
       "      <td>1.000000</td>\n",
       "      <td>179.400000</td>\n",
       "      <td>101.000000</td>\n",
       "      <td>53.500000</td>\n",
       "      <td>10.070000</td>\n",
       "      <td>10.300000</td>\n",
       "    </tr>\n",
       "    <tr>\n",
       "      <th>75%</th>\n",
       "      <td>0.000000</td>\n",
       "      <td>127.000000</td>\n",
       "      <td>1.000000</td>\n",
       "      <td>1.000000</td>\n",
       "      <td>1.780000</td>\n",
       "      <td>2.000000</td>\n",
       "      <td>216.400000</td>\n",
       "      <td>114.000000</td>\n",
       "      <td>66.200000</td>\n",
       "      <td>11.770000</td>\n",
       "      <td>12.100000</td>\n",
       "    </tr>\n",
       "    <tr>\n",
       "      <th>max</th>\n",
       "      <td>1.000000</td>\n",
       "      <td>243.000000</td>\n",
       "      <td>1.000000</td>\n",
       "      <td>1.000000</td>\n",
       "      <td>5.400000</td>\n",
       "      <td>9.000000</td>\n",
       "      <td>350.800000</td>\n",
       "      <td>165.000000</td>\n",
       "      <td>111.300000</td>\n",
       "      <td>18.190000</td>\n",
       "      <td>20.000000</td>\n",
       "    </tr>\n",
       "  </tbody>\n",
       "</table>\n",
       "</div>"
      ],
      "text/plain": [
       "             Churn  AccountWeeks  ContractRenewal     DataPlan    DataUsage  \\\n",
       "count  3333.000000   3333.000000      3333.000000  3333.000000  3333.000000   \n",
       "mean      0.144914    101.064806         0.903090     0.276628     0.816475   \n",
       "std       0.352067     39.822106         0.295879     0.447398     1.272668   \n",
       "min       0.000000      1.000000         0.000000     0.000000     0.000000   \n",
       "25%       0.000000     74.000000         1.000000     0.000000     0.000000   \n",
       "50%       0.000000    101.000000         1.000000     0.000000     0.000000   \n",
       "75%       0.000000    127.000000         1.000000     1.000000     1.780000   \n",
       "max       1.000000    243.000000         1.000000     1.000000     5.400000   \n",
       "\n",
       "       CustServCalls      DayMins     DayCalls  MonthlyCharge   OverageFee  \\\n",
       "count    3333.000000  3333.000000  3333.000000    3333.000000  3333.000000   \n",
       "mean        1.562856   179.775098   100.435644      56.305161    10.051488   \n",
       "std         1.315491    54.467389    20.069084      16.426032     2.535712   \n",
       "min         0.000000     0.000000     0.000000      14.000000     0.000000   \n",
       "25%         1.000000   143.700000    87.000000      45.000000     8.330000   \n",
       "50%         1.000000   179.400000   101.000000      53.500000    10.070000   \n",
       "75%         2.000000   216.400000   114.000000      66.200000    11.770000   \n",
       "max         9.000000   350.800000   165.000000     111.300000    18.190000   \n",
       "\n",
       "          RoamMins  \n",
       "count  3333.000000  \n",
       "mean     10.237294  \n",
       "std       2.791840  \n",
       "min       0.000000  \n",
       "25%       8.500000  \n",
       "50%      10.300000  \n",
       "75%      12.100000  \n",
       "max      20.000000  "
      ]
     },
     "execution_count": 6,
     "metadata": {},
     "output_type": "execute_result"
    }
   ],
   "source": [
    "# statistical description of data\n",
    "df_1.describe()"
   ]
  },
  {
   "cell_type": "markdown",
   "metadata": {},
   "source": [
    "Several machine learning algorithms make the assumption that the data follow a normal (or Gaussian) distribution. This is easy to check with the skewness value, which explains the extent to which the data is normally distributed. Ideally, the skewness value should be between -1 and +1, and any major deviation from this range indicates the presence of extreme values."
   ]
  },
  {
   "cell_type": "code",
   "execution_count": 7,
   "metadata": {},
   "outputs": [
    {
     "name": "stdout",
     "output_type": "stream",
     "text": [
      "Churn              2.018356\n",
      "AccountWeeks       0.096606\n",
      "ContractRenewal   -2.726332\n",
      "DataPlan           0.999140\n",
      "DataUsage          1.272057\n",
      "CustServCalls      1.091359\n",
      "DayMins           -0.029077\n",
      "DayCalls          -0.111787\n",
      "MonthlyCharge      0.594498\n",
      "OverageFee        -0.023845\n",
      "RoamMins          -0.245136\n",
      "dtype: float64\n"
     ]
    }
   ],
   "source": [
    "print(df_1.skew())"
   ]
  },
  {
   "cell_type": "markdown",
   "metadata": {},
   "source": [
    "conclusion: Churn, ContractRenewal, DataUsage, CustServCalls have been identified as the feastures with outliers."
   ]
  },
  {
   "cell_type": "markdown",
   "metadata": {},
   "source": [
    "## Visual observation of the outliers"
   ]
  },
  {
   "cell_type": "code",
   "execution_count": 8,
   "metadata": {},
   "outputs": [
    {
     "name": "stdout",
     "output_type": "stream",
     "text": [
      "\n",
      "\n",
      "\n",
      "\n",
      "                                                                       Columns with Outliers\n",
      "\n",
      "\n",
      "\n",
      "\n",
      "\n",
      "\n",
      "\n"
     ]
    },
    {
     "data": {
      "image/png": "[encoded data removed]",
      "text/plain": [
       "<Figure size 2160x1440 with 12 Axes>"
      ]
     },
     "metadata": {
      "needs_background": "light"
     },
     "output_type": "display_data"
    }
   ],
   "source": [
    "fig, axes = plt.subplots(4,3, figsize=(30, 20),squeeze=False)\n",
    "axes = axes.flatten()\n",
    "print('\\n'*3)\n",
    "print(' '*70, 'Columns with Outliers')\n",
    "print('\\n'*6)\n",
    "for pl,col in enumerate(list(df_1.columns.values)):\n",
    "    sns.boxplot(ax=axes[pl], data =df_1, y=col)\n",
    "    "
   ]
  },
  {
   "cell_type": "markdown",
   "metadata": {},
   "source": [
    "Based on the graphical analysis we can see that almost all columns contain outliers"
   ]
  },
  {
   "cell_type": "markdown",
   "metadata": {},
   "source": [
    "## Dealing with outliers"
   ]
  },
  {
   "cell_type": "markdown",
   "metadata": {},
   "source": [
    "My reason for dropping ContractRenewal is as follows; from the graph above '0' is represnted as an outlier, and there are customers who have only used the telecoms service while their subscription lasted and churned. Therefore, if '0' is removed the data for the customers who never renewed their contract but churned will be lost. Meaning a biased prediction model will be created.\n",
    "\n",
    "Dropping the target attribute implies keeping the original content of the attribute. This will help in determining if the prediction model has done well, when a comparison is done between the outcomes of the prediction model and the target attributes. "
   ]
  },
  {
   "cell_type": "code",
   "execution_count": 9,
   "metadata": {},
   "outputs": [
    {
     "data": {
      "text/plain": [
       "Index(['AccountWeeks', 'DataPlan', 'DataUsage', 'CustServCalls', 'DayMins',\n",
       "       'DayCalls', 'MonthlyCharge', 'OverageFee', 'RoamMins'],\n",
       "      dtype='object')"
      ]
     },
     "execution_count": 9,
     "metadata": {},
     "output_type": "execute_result"
    }
   ],
   "source": [
    "df_1_copy = df_1.copy()\n",
    "df_1_copy.drop(['Churn', 'ContractRenewal'], axis= 1, inplace = True )\n",
    "df_1_copy.columns"
   ]
  },
  {
   "cell_type": "markdown",
   "metadata": {},
   "source": [
    "## ContractRenewal Evidence"
   ]
  },
  {
   "cell_type": "code",
   "execution_count": 10,
   "metadata": {},
   "outputs": [
    {
     "data": {
      "image/png": "[encoded data removed]",
      "text/plain": [
       "<Figure size 432x288 with 1 Axes>"
      ]
     },
     "metadata": {},
     "output_type": "display_data"
    }
   ],
   "source": [
    "# correlation between Contract Renewal and Churn\n",
    "# our focus is ' Chum =1' ; the brown plots\n",
    "\n",
    "sns.set(style=\"whitegrid\")\n",
    "ax = sns.countplot(x=\"ContractRenewal\", hue=\"Churn\", data=df_1)\n",
    "plt.rcParams['figure.figsize'] = 10, 5; "
   ]
  },
  {
   "cell_type": "code",
   "execution_count": 11,
   "metadata": {},
   "outputs": [
    {
     "data": {
      "text/plain": [
       "<AxesSubplot:xlabel='ContractRenewal'>"
      ]
     },
     "execution_count": 11,
     "metadata": {},
     "output_type": "execute_result"
    },
    {
     "data": {
      "image/png": "[encoded data removed]",
      "text/plain": [
       "<Figure size 720x360 with 1 Axes>"
      ]
     },
     "metadata": {},
     "output_type": "display_data"
    }
   ],
   "source": [
    "sns.boxplot(data=df_1,x=df_1['ContractRenewal'])"
   ]
  },
  {
   "cell_type": "markdown",
   "metadata": {},
   "source": [
    "median & max = 1; outlier = 0"
   ]
  },
  {
   "cell_type": "markdown",
   "metadata": {},
   "source": [
    "## Applying IOR Fomula to ContractRenewal"
   ]
  },
  {
   "cell_type": "code",
   "execution_count": 12,
   "metadata": {},
   "outputs": [
    {
     "name": "stdout",
     "output_type": "stream",
     "text": [
      "lower qunatile:  1.0\n",
      "upper quantile:  1.0\n",
      "IQR:  0.0\n",
      "1.0 1.0\n"
     ]
    }
   ],
   "source": [
    "Q1=df_1['ContractRenewal'].quantile(0.25)\n",
    "Q3=df_1['ContractRenewal'].quantile(0.75)\n",
    "IQR=Q3-Q1\n",
    "print('lower qunatile: ', Q1)\n",
    "print('upper quantile: ', Q3)\n",
    "print('IQR: ', IQR)\n",
    "Lower_Whisker = Q1-1.5*IQR\n",
    "Upper_Whisker = Q3+1.5*IQR\n",
    "print(Lower_Whisker, Upper_Whisker)"
   ]
  },
  {
   "cell_type": "code",
   "execution_count": 13,
   "metadata": {},
   "outputs": [],
   "source": [
    "contract_renewal = df_1[(df_1['ContractRenewal'] <= Upper_Whisker) & ( df_1['ContractRenewal'] >= Lower_Whisker)]"
   ]
  },
  {
   "cell_type": "code",
   "execution_count": 14,
   "metadata": {},
   "outputs": [
    {
     "data": {
      "text/plain": [
       "<AxesSubplot:xlabel='ContractRenewal'>"
      ]
     },
     "execution_count": 14,
     "metadata": {},
     "output_type": "execute_result"
    },
    {
     "data": {
      "image/png": "[encoded data removed]",
      "text/plain": [
       "<Figure size 720x360 with 1 Axes>"
      ]
     },
     "metadata": {},
     "output_type": "display_data"
    }
   ],
   "source": [
    "sns.boxplot(data=contract_renewal,x=contract_renewal['ContractRenewal'])"
   ]
  },
  {
   "cell_type": "markdown",
   "metadata": {},
   "source": [
    "outlier '0' has been removed therefore, a part of the customer information has been lost. This justifies my explanation at the beginning of 'Dealing with Outliers'."
   ]
  },
  {
   "cell_type": "code",
   "execution_count": 15,
   "metadata": {},
   "outputs": [
    {
     "data": {
      "image/png": "[encoded data removed]",
      "text/plain": [
       "<Figure size 720x360 with 1 Axes>"
      ]
     },
     "metadata": {},
     "output_type": "display_data"
    }
   ],
   "source": [
    "# correlation between Contract Renewal and Churn\n",
    "# our focus is ' Chum =1' ; the brown plots\n",
    "\n",
    "sns.set(style=\"whitegrid\")\n",
    "ax = sns.countplot(x=\"ContractRenewal\", hue=\"Churn\", data=contract_renewal)\n",
    "plt.rcParams['figure.figsize'] = 10, 5; "
   ]
  },
  {
   "cell_type": "markdown",
   "metadata": {},
   "source": [
    "evidence 2 using a bar chat"
   ]
  },
  {
   "cell_type": "markdown",
   "metadata": {},
   "source": [
    "## Applying the IOR Formula to the rest of the dataset"
   ]
  },
  {
   "cell_type": "code",
   "execution_count": 16,
   "metadata": {},
   "outputs": [
    {
     "name": "stdout",
     "output_type": "stream",
     "text": [
      "AccountWeeks      74.00\n",
      "DataPlan           0.00\n",
      "DataUsage          0.00\n",
      "CustServCalls      1.00\n",
      "DayMins          143.70\n",
      "DayCalls          87.00\n",
      "MonthlyCharge     45.00\n",
      "OverageFee         8.33\n",
      "RoamMins           8.50\n",
      "Name: 0.25, dtype: float64\n",
      "AccountWeeks     127.00\n",
      "DataPlan           1.00\n",
      "DataUsage          1.78\n",
      "CustServCalls      2.00\n",
      "DayMins          216.40\n",
      "DayCalls         114.00\n",
      "MonthlyCharge     66.20\n",
      "OverageFee        11.77\n",
      "RoamMins          12.10\n",
      "Name: 0.75, dtype: float64\n",
      "AccountWeeks     53.00\n",
      "DataPlan          1.00\n",
      "DataUsage         1.78\n",
      "CustServCalls     1.00\n",
      "DayMins          72.70\n",
      "DayCalls         27.00\n",
      "MonthlyCharge    21.20\n",
      "OverageFee        3.44\n",
      "RoamMins          3.60\n",
      "dtype: float64\n",
      "AccountWeeks     -5.50\n",
      "DataPlan         -1.50\n",
      "DataUsage        -2.67\n",
      "CustServCalls    -0.50\n",
      "DayMins          34.65\n",
      "DayCalls         46.50\n",
      "MonthlyCharge    13.20\n",
      "OverageFee        3.17\n",
      "RoamMins          3.10\n",
      "dtype: float64 AccountWeeks     206.50\n",
      "DataPlan           2.50\n",
      "DataUsage          4.45\n",
      "CustServCalls      3.50\n",
      "DayMins          325.45\n",
      "DayCalls         154.50\n",
      "MonthlyCharge     98.00\n",
      "OverageFee        16.93\n",
      "RoamMins          17.50\n",
      "dtype: float64\n"
     ]
    }
   ],
   "source": [
    "Q1=df_1_copy.quantile(0.25)\n",
    "Q3=df_1_copy.quantile(0.75)\n",
    "IQR=Q3-Q1\n",
    "print(Q1)\n",
    "print(Q3)\n",
    "print(IQR)\n",
    "Lower_Whisker = Q1-1.5*IQR\n",
    "Upper_Whisker = Q3+1.5*IQR\n",
    "print(Lower_Whisker, Upper_Whisker)"
   ]
  },
  {
   "cell_type": "code",
   "execution_count": 17,
   "metadata": {},
   "outputs": [],
   "source": [
    "df_3 = df_1_copy[(df_1_copy <= Upper_Whisker) & ( df_1_copy >= Lower_Whisker)]"
   ]
  },
  {
   "cell_type": "code",
   "execution_count": 18,
   "metadata": {},
   "outputs": [],
   "source": [
    "df_2 = pd.DataFrame(data= df_1, columns = ['ContractRenewal', 'Churn'])"
   ]
  },
  {
   "cell_type": "code",
   "execution_count": 19,
   "metadata": {},
   "outputs": [
    {
     "name": "stdout",
     "output_type": "stream",
     "text": [
      "\n",
      "\n",
      "\n",
      "\n",
      "                                                                       Columns with Outliers\n",
      "\n",
      "\n",
      "\n",
      "\n",
      "\n",
      "\n",
      "\n"
     ]
    },
    {
     "data": {
      "image/png": "[encoded data removed]",
      "text/plain": [
       "<Figure size 2160x1440 with 12 Axes>"
      ]
     },
     "metadata": {},
     "output_type": "display_data"
    }
   ],
   "source": [
    "\n",
    "fig, axes = plt.subplots(4,3, figsize=(30, 20),squeeze=False)\n",
    "axes = axes.flatten()\n",
    "print('\\n'*3)\n",
    "print(' '*70, 'Columns with Outliers')\n",
    "print('\\n'*6)\n",
    "for pl,col in enumerate(list(df_3.columns.values)):\n",
    "    sns.boxplot(ax=axes[pl], data =df_3, y=col)"
   ]
  },
  {
   "cell_type": "code",
   "execution_count": 20,
   "metadata": {},
   "outputs": [
    {
     "data": {
      "text/html": [
       "<div>\n",
       "<style scoped>\n",
       "    .dataframe tbody tr th:only-of-type {\n",
       "        vertical-align: middle;\n",
       "    }\n",
       "\n",
       "    .dataframe tbody tr th {\n",
       "        vertical-align: top;\n",
       "    }\n",
       "\n",
       "    .dataframe thead th {\n",
       "        text-align: right;\n",
       "    }\n",
       "</style>\n",
       "<table border=\"1\" class=\"dataframe\">\n",
       "  <thead>\n",
       "    <tr style=\"text-align: right;\">\n",
       "      <th></th>\n",
       "      <th>AccountWeeks</th>\n",
       "      <th>DataPlan</th>\n",
       "      <th>DataUsage</th>\n",
       "      <th>CustServCalls</th>\n",
       "      <th>DayMins</th>\n",
       "      <th>DayCalls</th>\n",
       "      <th>MonthlyCharge</th>\n",
       "      <th>OverageFee</th>\n",
       "      <th>RoamMins</th>\n",
       "    </tr>\n",
       "  </thead>\n",
       "  <tbody>\n",
       "    <tr>\n",
       "      <th>count</th>\n",
       "      <td>3315.000000</td>\n",
       "      <td>3333.000000</td>\n",
       "      <td>3322.000000</td>\n",
       "      <td>3066.000000</td>\n",
       "      <td>3308.000000</td>\n",
       "      <td>3310.000000</td>\n",
       "      <td>3299.000000</td>\n",
       "      <td>3309.000000</td>\n",
       "      <td>3287.000000</td>\n",
       "    </tr>\n",
       "    <tr>\n",
       "      <th>mean</th>\n",
       "      <td>100.430468</td>\n",
       "      <td>0.276628</td>\n",
       "      <td>0.803769</td>\n",
       "      <td>1.300065</td>\n",
       "      <td>179.946252</td>\n",
       "      <td>100.587613</td>\n",
       "      <td>55.816338</td>\n",
       "      <td>10.061272</td>\n",
       "      <td>10.293368</td>\n",
       "    </tr>\n",
       "    <tr>\n",
       "      <th>std</th>\n",
       "      <td>38.979656</td>\n",
       "      <td>0.447398</td>\n",
       "      <td>1.255351</td>\n",
       "      <td>0.972030</td>\n",
       "      <td>52.866353</td>\n",
       "      <td>19.417399</td>\n",
       "      <td>15.781626</td>\n",
       "      <td>2.460551</td>\n",
       "      <td>2.604587</td>\n",
       "    </tr>\n",
       "    <tr>\n",
       "      <th>min</th>\n",
       "      <td>1.000000</td>\n",
       "      <td>0.000000</td>\n",
       "      <td>0.000000</td>\n",
       "      <td>0.000000</td>\n",
       "      <td>35.100000</td>\n",
       "      <td>47.000000</td>\n",
       "      <td>14.000000</td>\n",
       "      <td>3.220000</td>\n",
       "      <td>3.300000</td>\n",
       "    </tr>\n",
       "    <tr>\n",
       "      <th>25%</th>\n",
       "      <td>74.000000</td>\n",
       "      <td>0.000000</td>\n",
       "      <td>0.000000</td>\n",
       "      <td>1.000000</td>\n",
       "      <td>144.000000</td>\n",
       "      <td>88.000000</td>\n",
       "      <td>45.000000</td>\n",
       "      <td>8.350000</td>\n",
       "      <td>8.500000</td>\n",
       "    </tr>\n",
       "    <tr>\n",
       "      <th>50%</th>\n",
       "      <td>100.000000</td>\n",
       "      <td>0.000000</td>\n",
       "      <td>0.000000</td>\n",
       "      <td>1.000000</td>\n",
       "      <td>179.400000</td>\n",
       "      <td>101.000000</td>\n",
       "      <td>53.000000</td>\n",
       "      <td>10.070000</td>\n",
       "      <td>10.300000</td>\n",
       "    </tr>\n",
       "    <tr>\n",
       "      <th>75%</th>\n",
       "      <td>127.000000</td>\n",
       "      <td>1.000000</td>\n",
       "      <td>1.730000</td>\n",
       "      <td>2.000000</td>\n",
       "      <td>216.200000</td>\n",
       "      <td>114.000000</td>\n",
       "      <td>65.750000</td>\n",
       "      <td>11.760000</td>\n",
       "      <td>12.100000</td>\n",
       "    </tr>\n",
       "    <tr>\n",
       "      <th>max</th>\n",
       "      <td>205.000000</td>\n",
       "      <td>1.000000</td>\n",
       "      <td>4.430000</td>\n",
       "      <td>3.000000</td>\n",
       "      <td>324.700000</td>\n",
       "      <td>152.000000</td>\n",
       "      <td>97.600000</td>\n",
       "      <td>16.860000</td>\n",
       "      <td>17.500000</td>\n",
       "    </tr>\n",
       "  </tbody>\n",
       "</table>\n",
       "</div>"
      ],
      "text/plain": [
       "       AccountWeeks     DataPlan    DataUsage  CustServCalls      DayMins  \\\n",
       "count   3315.000000  3333.000000  3322.000000    3066.000000  3308.000000   \n",
       "mean     100.430468     0.276628     0.803769       1.300065   179.946252   \n",
       "std       38.979656     0.447398     1.255351       0.972030    52.866353   \n",
       "min        1.000000     0.000000     0.000000       0.000000    35.100000   \n",
       "25%       74.000000     0.000000     0.000000       1.000000   144.000000   \n",
       "50%      100.000000     0.000000     0.000000       1.000000   179.400000   \n",
       "75%      127.000000     1.000000     1.730000       2.000000   216.200000   \n",
       "max      205.000000     1.000000     4.430000       3.000000   324.700000   \n",
       "\n",
       "          DayCalls  MonthlyCharge   OverageFee     RoamMins  \n",
       "count  3310.000000    3299.000000  3309.000000  3287.000000  \n",
       "mean    100.587613      55.816338    10.061272    10.293368  \n",
       "std      19.417399      15.781626     2.460551     2.604587  \n",
       "min      47.000000      14.000000     3.220000     3.300000  \n",
       "25%      88.000000      45.000000     8.350000     8.500000  \n",
       "50%     101.000000      53.000000    10.070000    10.300000  \n",
       "75%     114.000000      65.750000    11.760000    12.100000  \n",
       "max     152.000000      97.600000    16.860000    17.500000  "
      ]
     },
     "execution_count": 20,
     "metadata": {},
     "output_type": "execute_result"
    }
   ],
   "source": [
    "df_3.describe()"
   ]
  },
  {
   "cell_type": "markdown",
   "metadata": {},
   "source": [
    "## New dataset free from outliers"
   ]
  },
  {
   "cell_type": "code",
   "execution_count": 21,
   "metadata": {},
   "outputs": [
    {
     "data": {
      "text/html": [
       "<div>\n",
       "<style scoped>\n",
       "    .dataframe tbody tr th:only-of-type {\n",
       "        vertical-align: middle;\n",
       "    }\n",
       "\n",
       "    .dataframe tbody tr th {\n",
       "        vertical-align: top;\n",
       "    }\n",
       "\n",
       "    .dataframe thead th {\n",
       "        text-align: right;\n",
       "    }\n",
       "</style>\n",
       "<table border=\"1\" class=\"dataframe\">\n",
       "  <thead>\n",
       "    <tr style=\"text-align: right;\">\n",
       "      <th></th>\n",
       "      <th>AccountWeeks</th>\n",
       "      <th>DataPlan</th>\n",
       "      <th>DataUsage</th>\n",
       "      <th>CustServCalls</th>\n",
       "      <th>DayMins</th>\n",
       "      <th>DayCalls</th>\n",
       "      <th>MonthlyCharge</th>\n",
       "      <th>OverageFee</th>\n",
       "      <th>RoamMins</th>\n",
       "      <th>ContractRenewal</th>\n",
       "      <th>Churn</th>\n",
       "    </tr>\n",
       "  </thead>\n",
       "  <tbody>\n",
       "    <tr>\n",
       "      <th>0</th>\n",
       "      <td>128.0</td>\n",
       "      <td>1</td>\n",
       "      <td>2.70</td>\n",
       "      <td>1.0</td>\n",
       "      <td>265.1</td>\n",
       "      <td>110.0</td>\n",
       "      <td>89.0</td>\n",
       "      <td>9.87</td>\n",
       "      <td>10.0</td>\n",
       "      <td>1</td>\n",
       "      <td>0</td>\n",
       "    </tr>\n",
       "    <tr>\n",
       "      <th>1</th>\n",
       "      <td>107.0</td>\n",
       "      <td>1</td>\n",
       "      <td>3.70</td>\n",
       "      <td>1.0</td>\n",
       "      <td>161.6</td>\n",
       "      <td>123.0</td>\n",
       "      <td>82.0</td>\n",
       "      <td>9.78</td>\n",
       "      <td>13.7</td>\n",
       "      <td>1</td>\n",
       "      <td>0</td>\n",
       "    </tr>\n",
       "    <tr>\n",
       "      <th>2</th>\n",
       "      <td>137.0</td>\n",
       "      <td>0</td>\n",
       "      <td>0.00</td>\n",
       "      <td>0.0</td>\n",
       "      <td>243.4</td>\n",
       "      <td>114.0</td>\n",
       "      <td>52.0</td>\n",
       "      <td>6.06</td>\n",
       "      <td>12.2</td>\n",
       "      <td>1</td>\n",
       "      <td>0</td>\n",
       "    </tr>\n",
       "    <tr>\n",
       "      <th>3</th>\n",
       "      <td>84.0</td>\n",
       "      <td>0</td>\n",
       "      <td>0.00</td>\n",
       "      <td>2.0</td>\n",
       "      <td>299.4</td>\n",
       "      <td>71.0</td>\n",
       "      <td>57.0</td>\n",
       "      <td>NaN</td>\n",
       "      <td>6.6</td>\n",
       "      <td>0</td>\n",
       "      <td>0</td>\n",
       "    </tr>\n",
       "    <tr>\n",
       "      <th>4</th>\n",
       "      <td>75.0</td>\n",
       "      <td>0</td>\n",
       "      <td>0.00</td>\n",
       "      <td>3.0</td>\n",
       "      <td>166.7</td>\n",
       "      <td>113.0</td>\n",
       "      <td>41.0</td>\n",
       "      <td>7.42</td>\n",
       "      <td>10.1</td>\n",
       "      <td>0</td>\n",
       "      <td>0</td>\n",
       "    </tr>\n",
       "    <tr>\n",
       "      <th>...</th>\n",
       "      <td>...</td>\n",
       "      <td>...</td>\n",
       "      <td>...</td>\n",
       "      <td>...</td>\n",
       "      <td>...</td>\n",
       "      <td>...</td>\n",
       "      <td>...</td>\n",
       "      <td>...</td>\n",
       "      <td>...</td>\n",
       "      <td>...</td>\n",
       "      <td>...</td>\n",
       "    </tr>\n",
       "    <tr>\n",
       "      <th>3328</th>\n",
       "      <td>192.0</td>\n",
       "      <td>1</td>\n",
       "      <td>2.67</td>\n",
       "      <td>2.0</td>\n",
       "      <td>156.2</td>\n",
       "      <td>77.0</td>\n",
       "      <td>71.7</td>\n",
       "      <td>10.78</td>\n",
       "      <td>9.9</td>\n",
       "      <td>1</td>\n",
       "      <td>0</td>\n",
       "    </tr>\n",
       "    <tr>\n",
       "      <th>3329</th>\n",
       "      <td>68.0</td>\n",
       "      <td>0</td>\n",
       "      <td>0.34</td>\n",
       "      <td>3.0</td>\n",
       "      <td>231.1</td>\n",
       "      <td>57.0</td>\n",
       "      <td>56.4</td>\n",
       "      <td>7.67</td>\n",
       "      <td>9.6</td>\n",
       "      <td>1</td>\n",
       "      <td>0</td>\n",
       "    </tr>\n",
       "    <tr>\n",
       "      <th>3330</th>\n",
       "      <td>28.0</td>\n",
       "      <td>0</td>\n",
       "      <td>0.00</td>\n",
       "      <td>2.0</td>\n",
       "      <td>180.8</td>\n",
       "      <td>109.0</td>\n",
       "      <td>56.0</td>\n",
       "      <td>14.44</td>\n",
       "      <td>14.1</td>\n",
       "      <td>1</td>\n",
       "      <td>0</td>\n",
       "    </tr>\n",
       "    <tr>\n",
       "      <th>3331</th>\n",
       "      <td>184.0</td>\n",
       "      <td>0</td>\n",
       "      <td>0.00</td>\n",
       "      <td>2.0</td>\n",
       "      <td>213.8</td>\n",
       "      <td>105.0</td>\n",
       "      <td>50.0</td>\n",
       "      <td>7.98</td>\n",
       "      <td>5.0</td>\n",
       "      <td>0</td>\n",
       "      <td>0</td>\n",
       "    </tr>\n",
       "    <tr>\n",
       "      <th>3332</th>\n",
       "      <td>74.0</td>\n",
       "      <td>1</td>\n",
       "      <td>3.70</td>\n",
       "      <td>0.0</td>\n",
       "      <td>234.4</td>\n",
       "      <td>113.0</td>\n",
       "      <td>NaN</td>\n",
       "      <td>13.30</td>\n",
       "      <td>13.7</td>\n",
       "      <td>1</td>\n",
       "      <td>0</td>\n",
       "    </tr>\n",
       "  </tbody>\n",
       "</table>\n",
       "<p>3333 rows × 11 columns</p>\n",
       "</div>"
      ],
      "text/plain": [
       "      AccountWeeks  DataPlan  DataUsage  CustServCalls  DayMins  DayCalls  \\\n",
       "0            128.0         1       2.70            1.0    265.1     110.0   \n",
       "1            107.0         1       3.70            1.0    161.6     123.0   \n",
       "2            137.0         0       0.00            0.0    243.4     114.0   \n",
       "3             84.0         0       0.00            2.0    299.4      71.0   \n",
       "4             75.0         0       0.00            3.0    166.7     113.0   \n",
       "...            ...       ...        ...            ...      ...       ...   \n",
       "3328         192.0         1       2.67            2.0    156.2      77.0   \n",
       "3329          68.0         0       0.34            3.0    231.1      57.0   \n",
       "3330          28.0         0       0.00            2.0    180.8     109.0   \n",
       "3331         184.0         0       0.00            2.0    213.8     105.0   \n",
       "3332          74.0         1       3.70            0.0    234.4     113.0   \n",
       "\n",
       "      MonthlyCharge  OverageFee  RoamMins  ContractRenewal  Churn  \n",
       "0              89.0        9.87      10.0                1      0  \n",
       "1              82.0        9.78      13.7                1      0  \n",
       "2              52.0        6.06      12.2                1      0  \n",
       "3              57.0         NaN       6.6                0      0  \n",
       "4              41.0        7.42      10.1                0      0  \n",
       "...             ...         ...       ...              ...    ...  \n",
       "3328           71.7       10.78       9.9                1      0  \n",
       "3329           56.4        7.67       9.6                1      0  \n",
       "3330           56.0       14.44      14.1                1      0  \n",
       "3331           50.0        7.98       5.0                0      0  \n",
       "3332            NaN       13.30      13.7                1      0  \n",
       "\n",
       "[3333 rows x 11 columns]"
      ]
     },
     "execution_count": 21,
     "metadata": {},
     "output_type": "execute_result"
    }
   ],
   "source": [
    "processed_data = pd.concat([df_3, df_2], axis= 1 )\n",
    "processed_data"
   ]
  },
  {
   "cell_type": "code",
   "execution_count": 22,
   "metadata": {},
   "outputs": [
    {
     "name": "stdout",
     "output_type": "stream",
     "text": [
      "AccountWeeks       0.003259\n",
      "DataPlan           0.999140\n",
      "DataUsage          1.264256\n",
      "CustServCalls      0.285895\n",
      "DayMins           -0.001967\n",
      "DayCalls          -0.017084\n",
      "MonthlyCharge      0.486346\n",
      "OverageFee         0.008104\n",
      "RoamMins          -0.038146\n",
      "ContractRenewal   -2.726332\n",
      "Churn              2.018356\n",
      "dtype: float64\n"
     ]
    }
   ],
   "source": [
    "print(processed_data.skew())"
   ]
  },
  {
   "cell_type": "markdown",
   "metadata": {},
   "source": [
    "## Data Visualization (Data Distribution Analysis)"
   ]
  },
  {
   "cell_type": "code",
   "execution_count": 23,
   "metadata": {},
   "outputs": [
    {
     "data": {
      "image/png": "[encoded data removed]",
      "text/plain": [
       "<Figure size 1440x1080 with 12 Axes>"
      ]
     },
     "metadata": {},
     "output_type": "display_data"
    }
   ],
   "source": [
    "import matplotlib.pyplot as plt\n",
    "processed_data.hist(bins = 50, figsize = (20,15))\n",
    "plt.show()\n",
    "%matplotlib inline"
   ]
  },
  {
   "cell_type": "markdown",
   "metadata": {},
   "source": [
    "## Focusing on the columns with percuilar distribution (aside Churn column)"
   ]
  },
  {
   "cell_type": "markdown",
   "metadata": {},
   "source": [
    "The perculiar dustributions are identified from the graph above."
   ]
  },
  {
   "cell_type": "code",
   "execution_count": 24,
   "metadata": {},
   "outputs": [],
   "source": [
    "unq_dist = processed_data[[('ContractRenewal'),('DataPlan'),('DataUsage'),('Churn')]]"
   ]
  },
  {
   "cell_type": "code",
   "execution_count": 25,
   "metadata": {},
   "outputs": [
    {
     "data": {
      "image/png": "[encoded data removed]",
      "text/plain": [
       "<Figure size 432x288 with 1 Axes>"
      ]
     },
     "metadata": {
      "needs_background": "light"
     },
     "output_type": "display_data"
    },
    {
     "data": {
      "image/png": "[encoded data removed]",
      "text/plain": [
       "<Figure size 360x360 with 1 Axes>"
      ]
     },
     "metadata": {
      "needs_background": "light"
     },
     "output_type": "display_data"
    },
    {
     "data": {
      "image/png": "[encoded data removed]",
      "text/plain": [
       "<Figure size 432x288 with 1 Axes>"
      ]
     },
     "metadata": {
      "needs_background": "light"
     },
     "output_type": "display_data"
    },
    {
     "data": {
      "image/png": "[encoded data removed]",
      "text/plain": [
       "<Figure size 360x360 with 1 Axes>"
      ]
     },
     "metadata": {
      "needs_background": "light"
     },
     "output_type": "display_data"
    },
    {
     "data": {
      "image/png": "[encoded data removed]",
      "text/plain": [
       "<Figure size 432x288 with 1 Axes>"
      ]
     },
     "metadata": {
      "needs_background": "light"
     },
     "output_type": "display_data"
    },
    {
     "data": {
      "image/png": "[encoded data removed]",
      "text/plain": [
       "<Figure size 360x360 with 1 Axes>"
      ]
     },
     "metadata": {
      "needs_background": "light"
     },
     "output_type": "display_data"
    }
   ],
   "source": [
    "for col in (unq_dist.iloc[:,:-1].columns.values):\n",
    "    sns.violinplot(y= col, x = 'Churn',data=unq_dist, scale='count')\n",
    "    sns.catplot(y= col, data= unq_dist, x = 'Churn')\n",
    "    plt.title(f'Chrun/{col}');\n",
    "    plt.ylabel(col);\n",
    "    plt.show();\n",
    "    plt.tight_layout();\n",
    "    plt.close() \n",
    "    \n",
    " "
   ]
  },
  {
   "cell_type": "markdown",
   "metadata": {},
   "source": [
    "From my analysis these columns apart from 'Contract Renewal' Column aren't going to be helpful in predicting customers that churnned, so I drop them"
   ]
  },
  {
   "cell_type": "markdown",
   "metadata": {},
   "source": [
    "## Dropping the 'DataPlan' and 'DataUsage' Columns"
   ]
  },
  {
   "cell_type": "code",
   "execution_count": 26,
   "metadata": {},
   "outputs": [
    {
     "data": {
      "text/plain": [
       "Index(['DataPlan', 'DataUsage'], dtype='object')"
      ]
     },
     "execution_count": 26,
     "metadata": {},
     "output_type": "execute_result"
    }
   ],
   "source": [
    "unq_dist.columns[1:3]"
   ]
  },
  {
   "cell_type": "code",
   "execution_count": 27,
   "metadata": {},
   "outputs": [],
   "source": [
    "clean_data = processed_data.drop(unq_dist.columns[1:3], axis =1)"
   ]
  },
  {
   "cell_type": "code",
   "execution_count": 28,
   "metadata": {},
   "outputs": [
    {
     "data": {
      "text/html": [
       "<div>\n",
       "<style scoped>\n",
       "    .dataframe tbody tr th:only-of-type {\n",
       "        vertical-align: middle;\n",
       "    }\n",
       "\n",
       "    .dataframe tbody tr th {\n",
       "        vertical-align: top;\n",
       "    }\n",
       "\n",
       "    .dataframe thead th {\n",
       "        text-align: right;\n",
       "    }\n",
       "</style>\n",
       "<table border=\"1\" class=\"dataframe\">\n",
       "  <thead>\n",
       "    <tr style=\"text-align: right;\">\n",
       "      <th></th>\n",
       "      <th>AccountWeeks</th>\n",
       "      <th>CustServCalls</th>\n",
       "      <th>DayMins</th>\n",
       "      <th>DayCalls</th>\n",
       "      <th>MonthlyCharge</th>\n",
       "      <th>OverageFee</th>\n",
       "      <th>RoamMins</th>\n",
       "      <th>ContractRenewal</th>\n",
       "      <th>Churn</th>\n",
       "    </tr>\n",
       "  </thead>\n",
       "  <tbody>\n",
       "    <tr>\n",
       "      <th>0</th>\n",
       "      <td>128.0</td>\n",
       "      <td>1.0</td>\n",
       "      <td>265.1</td>\n",
       "      <td>110.0</td>\n",
       "      <td>89.0</td>\n",
       "      <td>9.87</td>\n",
       "      <td>10.0</td>\n",
       "      <td>1</td>\n",
       "      <td>0</td>\n",
       "    </tr>\n",
       "    <tr>\n",
       "      <th>1</th>\n",
       "      <td>107.0</td>\n",
       "      <td>1.0</td>\n",
       "      <td>161.6</td>\n",
       "      <td>123.0</td>\n",
       "      <td>82.0</td>\n",
       "      <td>9.78</td>\n",
       "      <td>13.7</td>\n",
       "      <td>1</td>\n",
       "      <td>0</td>\n",
       "    </tr>\n",
       "    <tr>\n",
       "      <th>2</th>\n",
       "      <td>137.0</td>\n",
       "      <td>0.0</td>\n",
       "      <td>243.4</td>\n",
       "      <td>114.0</td>\n",
       "      <td>52.0</td>\n",
       "      <td>6.06</td>\n",
       "      <td>12.2</td>\n",
       "      <td>1</td>\n",
       "      <td>0</td>\n",
       "    </tr>\n",
       "    <tr>\n",
       "      <th>3</th>\n",
       "      <td>84.0</td>\n",
       "      <td>2.0</td>\n",
       "      <td>299.4</td>\n",
       "      <td>71.0</td>\n",
       "      <td>57.0</td>\n",
       "      <td>NaN</td>\n",
       "      <td>6.6</td>\n",
       "      <td>0</td>\n",
       "      <td>0</td>\n",
       "    </tr>\n",
       "    <tr>\n",
       "      <th>4</th>\n",
       "      <td>75.0</td>\n",
       "      <td>3.0</td>\n",
       "      <td>166.7</td>\n",
       "      <td>113.0</td>\n",
       "      <td>41.0</td>\n",
       "      <td>7.42</td>\n",
       "      <td>10.1</td>\n",
       "      <td>0</td>\n",
       "      <td>0</td>\n",
       "    </tr>\n",
       "  </tbody>\n",
       "</table>\n",
       "</div>"
      ],
      "text/plain": [
       "   AccountWeeks  CustServCalls  DayMins  DayCalls  MonthlyCharge  OverageFee  \\\n",
       "0         128.0            1.0    265.1     110.0           89.0        9.87   \n",
       "1         107.0            1.0    161.6     123.0           82.0        9.78   \n",
       "2         137.0            0.0    243.4     114.0           52.0        6.06   \n",
       "3          84.0            2.0    299.4      71.0           57.0         NaN   \n",
       "4          75.0            3.0    166.7     113.0           41.0        7.42   \n",
       "\n",
       "   RoamMins  ContractRenewal  Churn  \n",
       "0      10.0                1      0  \n",
       "1      13.7                1      0  \n",
       "2      12.2                1      0  \n",
       "3       6.6                0      0  \n",
       "4      10.1                0      0  "
      ]
     },
     "execution_count": 28,
     "metadata": {},
     "output_type": "execute_result"
    }
   ],
   "source": [
    "clean_data.head()"
   ]
  },
  {
   "cell_type": "markdown",
   "metadata": {},
   "source": [
    "## Correlation Analysis"
   ]
  },
  {
   "cell_type": "code",
   "execution_count": 29,
   "metadata": {},
   "outputs": [],
   "source": [
    "corr_matrix = clean_data.corr()"
   ]
  },
  {
   "cell_type": "code",
   "execution_count": 30,
   "metadata": {},
   "outputs": [
    {
     "data": {
      "text/plain": [
       "Churn              1.000000\n",
       "DayMins            0.188065\n",
       "OverageFee         0.081772\n",
       "MonthlyCharge      0.070658\n",
       "RoamMins           0.057022\n",
       "DayCalls           0.025247\n",
       "AccountWeeks       0.011088\n",
       "CustServCalls     -0.021795\n",
       "ContractRenewal   -0.259852\n",
       "Name: Churn, dtype: float64"
      ]
     },
     "execution_count": 30,
     "metadata": {},
     "output_type": "execute_result"
    }
   ],
   "source": [
    "# input features that correlate with Churn(1); our target value\n",
    "\n",
    "corr_matrix[\"Churn\"].sort_values(ascending=False)"
   ]
  },
  {
   "cell_type": "code",
   "execution_count": 31,
   "metadata": {},
   "outputs": [
    {
     "data": {
      "text/plain": [
       "<AxesSubplot:>"
      ]
     },
     "execution_count": 31,
     "metadata": {},
     "output_type": "execute_result"
    },
    {
     "data": {
      "image/png": "[encoded data removed]",
      "text/plain": [
       "<Figure size 864x432 with 2 Axes>"
      ]
     },
     "metadata": {
      "needs_background": "light"
     },
     "output_type": "display_data"
    }
   ],
   "source": [
    "# visual representation of our correlation analysis using the heatmap\n",
    "\n",
    "plt.figure(figsize=(12,6))\n",
    "sns.heatmap(clean_data.corr(), annot= True)"
   ]
  },
  {
   "cell_type": "markdown",
   "metadata": {},
   "source": [
    "## Data Visualization (2);  correlation analysis"
   ]
  },
  {
   "cell_type": "markdown",
   "metadata": {},
   "source": [
    "With these visualizations, i can determine the columns that should be dropped."
   ]
  },
  {
   "cell_type": "code",
   "execution_count": 32,
   "metadata": {},
   "outputs": [
    {
     "data": {
      "image/png": "[encoded data removed]",
      "text/plain": [
       "<Figure size 360x360 with 1 Axes>"
      ]
     },
     "metadata": {
      "needs_background": "light"
     },
     "output_type": "display_data"
    },
    {
     "name": "stdout",
     "output_type": "stream",
     "text": [
      "   \n"
     ]
    },
    {
     "data": {
      "image/png": "[encoded data removed]",
      "text/plain": [
       "<Figure size 360x360 with 1 Axes>"
      ]
     },
     "metadata": {
      "needs_background": "light"
     },
     "output_type": "display_data"
    },
    {
     "name": "stdout",
     "output_type": "stream",
     "text": [
      "   \n"
     ]
    },
    {
     "data": {
      "image/png": "[encoded data removed]",
      "text/plain": [
       "<Figure size 360x360 with 1 Axes>"
      ]
     },
     "metadata": {
      "needs_background": "light"
     },
     "output_type": "display_data"
    },
    {
     "name": "stdout",
     "output_type": "stream",
     "text": [
      "   \n"
     ]
    },
    {
     "data": {
      "image/png": "[encoded data removed]",
      "text/plain": [
       "<Figure size 360x360 with 1 Axes>"
      ]
     },
     "metadata": {
      "needs_background": "light"
     },
     "output_type": "display_data"
    },
    {
     "name": "stdout",
     "output_type": "stream",
     "text": [
      "   \n"
     ]
    },
    {
     "data": {
      "image/png": "[encoded data removed]",
      "text/plain": [
       "<Figure size 360x360 with 1 Axes>"
      ]
     },
     "metadata": {
      "needs_background": "light"
     },
     "output_type": "display_data"
    },
    {
     "name": "stdout",
     "output_type": "stream",
     "text": [
      "   \n"
     ]
    },
    {
     "data": {
      "image/png": "[encoded data removed]",
      "text/plain": [
       "<Figure size 360x360 with 1 Axes>"
      ]
     },
     "metadata": {
      "needs_background": "light"
     },
     "output_type": "display_data"
    },
    {
     "name": "stdout",
     "output_type": "stream",
     "text": [
      "   \n"
     ]
    },
    {
     "data": {
      "image/png": "[encoded data removed]",
      "text/plain": [
       "<Figure size 360x360 with 1 Axes>"
      ]
     },
     "metadata": {
      "needs_background": "light"
     },
     "output_type": "display_data"
    },
    {
     "name": "stdout",
     "output_type": "stream",
     "text": [
      "   \n"
     ]
    },
    {
     "data": {
      "image/png": "[encoded data removed]",
      "text/plain": [
       "<Figure size 360x360 with 1 Axes>"
      ]
     },
     "metadata": {
      "needs_background": "light"
     },
     "output_type": "display_data"
    },
    {
     "name": "stdout",
     "output_type": "stream",
     "text": [
      "   \n"
     ]
    }
   ],
   "source": [
    "for col in (clean_data.iloc[:,:-1].columns.values):\n",
    "    sns.lmplot(x='Churn',y=col,data=clean_data)\n",
    "    plt.title(f'Churn/{col}');\n",
    "    plt.ylabel(col);\n",
    "    plt.show();\n",
    "    plt.tight_layout();\n",
    "    plt.close() \n",
    "    print('   ')"
   ]
  },
  {
   "cell_type": "markdown",
   "metadata": {},
   "source": [
    "From the graph above, i will drop AccountWeeks and DayCalls because they have negligible to no correlation with Churn."
   ]
  },
  {
   "cell_type": "code",
   "execution_count": 33,
   "metadata": {},
   "outputs": [],
   "source": [
    "clean_data = clean_data.drop(['AccountWeeks', 'DayCalls'], axis=1)"
   ]
  },
  {
   "cell_type": "code",
   "execution_count": 34,
   "metadata": {},
   "outputs": [
    {
     "data": {
      "text/html": [
       "<div>\n",
       "<style scoped>\n",
       "    .dataframe tbody tr th:only-of-type {\n",
       "        vertical-align: middle;\n",
       "    }\n",
       "\n",
       "    .dataframe tbody tr th {\n",
       "        vertical-align: top;\n",
       "    }\n",
       "\n",
       "    .dataframe thead th {\n",
       "        text-align: right;\n",
       "    }\n",
       "</style>\n",
       "<table border=\"1\" class=\"dataframe\">\n",
       "  <thead>\n",
       "    <tr style=\"text-align: right;\">\n",
       "      <th></th>\n",
       "      <th>CustServCalls</th>\n",
       "      <th>DayMins</th>\n",
       "      <th>MonthlyCharge</th>\n",
       "      <th>OverageFee</th>\n",
       "      <th>RoamMins</th>\n",
       "      <th>ContractRenewal</th>\n",
       "      <th>Churn</th>\n",
       "    </tr>\n",
       "  </thead>\n",
       "  <tbody>\n",
       "    <tr>\n",
       "      <th>0</th>\n",
       "      <td>1.0</td>\n",
       "      <td>265.1</td>\n",
       "      <td>89.0</td>\n",
       "      <td>9.87</td>\n",
       "      <td>10.0</td>\n",
       "      <td>1</td>\n",
       "      <td>0</td>\n",
       "    </tr>\n",
       "    <tr>\n",
       "      <th>1</th>\n",
       "      <td>1.0</td>\n",
       "      <td>161.6</td>\n",
       "      <td>82.0</td>\n",
       "      <td>9.78</td>\n",
       "      <td>13.7</td>\n",
       "      <td>1</td>\n",
       "      <td>0</td>\n",
       "    </tr>\n",
       "    <tr>\n",
       "      <th>2</th>\n",
       "      <td>0.0</td>\n",
       "      <td>243.4</td>\n",
       "      <td>52.0</td>\n",
       "      <td>6.06</td>\n",
       "      <td>12.2</td>\n",
       "      <td>1</td>\n",
       "      <td>0</td>\n",
       "    </tr>\n",
       "    <tr>\n",
       "      <th>3</th>\n",
       "      <td>2.0</td>\n",
       "      <td>299.4</td>\n",
       "      <td>57.0</td>\n",
       "      <td>NaN</td>\n",
       "      <td>6.6</td>\n",
       "      <td>0</td>\n",
       "      <td>0</td>\n",
       "    </tr>\n",
       "    <tr>\n",
       "      <th>4</th>\n",
       "      <td>3.0</td>\n",
       "      <td>166.7</td>\n",
       "      <td>41.0</td>\n",
       "      <td>7.42</td>\n",
       "      <td>10.1</td>\n",
       "      <td>0</td>\n",
       "      <td>0</td>\n",
       "    </tr>\n",
       "  </tbody>\n",
       "</table>\n",
       "</div>"
      ],
      "text/plain": [
       "   CustServCalls  DayMins  MonthlyCharge  OverageFee  RoamMins  \\\n",
       "0            1.0    265.1           89.0        9.87      10.0   \n",
       "1            1.0    161.6           82.0        9.78      13.7   \n",
       "2            0.0    243.4           52.0        6.06      12.2   \n",
       "3            2.0    299.4           57.0         NaN       6.6   \n",
       "4            3.0    166.7           41.0        7.42      10.1   \n",
       "\n",
       "   ContractRenewal  Churn  \n",
       "0                1      0  \n",
       "1                1      0  \n",
       "2                1      0  \n",
       "3                0      0  \n",
       "4                0      0  "
      ]
     },
     "execution_count": 34,
     "metadata": {},
     "output_type": "execute_result"
    }
   ],
   "source": [
    "clean_data.head()"
   ]
  },
  {
   "cell_type": "markdown",
   "metadata": {},
   "source": [
    "## Checking for Missing Columns"
   ]
  },
  {
   "cell_type": "code",
   "execution_count": 35,
   "metadata": {},
   "outputs": [
    {
     "data": {
      "text/plain": [
       "CustServCalls      267\n",
       "DayMins             25\n",
       "MonthlyCharge       34\n",
       "OverageFee          24\n",
       "RoamMins            46\n",
       "ContractRenewal      0\n",
       "Churn                0\n",
       "dtype: int64"
      ]
     },
     "execution_count": 35,
     "metadata": {},
     "output_type": "execute_result"
    }
   ],
   "source": [
    "clean_data.isnull().sum()"
   ]
  },
  {
   "cell_type": "markdown",
   "metadata": {},
   "source": [
    "There are columns with missing data"
   ]
  },
  {
   "cell_type": "code",
   "execution_count": 36,
   "metadata": {},
   "outputs": [
    {
     "data": {
      "text/html": [
       "<div>\n",
       "<style scoped>\n",
       "    .dataframe tbody tr th:only-of-type {\n",
       "        vertical-align: middle;\n",
       "    }\n",
       "\n",
       "    .dataframe tbody tr th {\n",
       "        vertical-align: top;\n",
       "    }\n",
       "\n",
       "    .dataframe thead th {\n",
       "        text-align: right;\n",
       "    }\n",
       "</style>\n",
       "<table border=\"1\" class=\"dataframe\">\n",
       "  <thead>\n",
       "    <tr style=\"text-align: right;\">\n",
       "      <th></th>\n",
       "      <th>CustServCalls</th>\n",
       "      <th>DayMins</th>\n",
       "      <th>MonthlyCharge</th>\n",
       "      <th>OverageFee</th>\n",
       "      <th>RoamMins</th>\n",
       "      <th>ContractRenewal</th>\n",
       "      <th>Churn</th>\n",
       "    </tr>\n",
       "  </thead>\n",
       "  <tbody>\n",
       "    <tr>\n",
       "      <th>3</th>\n",
       "      <td>2.0</td>\n",
       "      <td>299.4</td>\n",
       "      <td>57.0</td>\n",
       "      <td>NaN</td>\n",
       "      <td>6.6</td>\n",
       "      <td>0</td>\n",
       "      <td>0</td>\n",
       "    </tr>\n",
       "    <tr>\n",
       "      <th>6</th>\n",
       "      <td>3.0</td>\n",
       "      <td>218.2</td>\n",
       "      <td>87.3</td>\n",
       "      <td>NaN</td>\n",
       "      <td>7.5</td>\n",
       "      <td>1</td>\n",
       "      <td>0</td>\n",
       "    </tr>\n",
       "    <tr>\n",
       "      <th>8</th>\n",
       "      <td>1.0</td>\n",
       "      <td>184.5</td>\n",
       "      <td>63.9</td>\n",
       "      <td>NaN</td>\n",
       "      <td>8.7</td>\n",
       "      <td>1</td>\n",
       "      <td>0</td>\n",
       "    </tr>\n",
       "    <tr>\n",
       "      <th>10</th>\n",
       "      <td>NaN</td>\n",
       "      <td>129.1</td>\n",
       "      <td>44.9</td>\n",
       "      <td>11.43</td>\n",
       "      <td>12.7</td>\n",
       "      <td>1</td>\n",
       "      <td>1</td>\n",
       "    </tr>\n",
       "    <tr>\n",
       "      <th>14</th>\n",
       "      <td>NaN</td>\n",
       "      <td>120.7</td>\n",
       "      <td>47.0</td>\n",
       "      <td>15.36</td>\n",
       "      <td>13.1</td>\n",
       "      <td>1</td>\n",
       "      <td>0</td>\n",
       "    </tr>\n",
       "  </tbody>\n",
       "</table>\n",
       "</div>"
      ],
      "text/plain": [
       "    CustServCalls  DayMins  MonthlyCharge  OverageFee  RoamMins  \\\n",
       "3             2.0    299.4           57.0         NaN       6.6   \n",
       "6             3.0    218.2           87.3         NaN       7.5   \n",
       "8             1.0    184.5           63.9         NaN       8.7   \n",
       "10            NaN    129.1           44.9       11.43      12.7   \n",
       "14            NaN    120.7           47.0       15.36      13.1   \n",
       "\n",
       "    ContractRenewal  Churn  \n",
       "3                 0      0  \n",
       "6                 1      0  \n",
       "8                 1      0  \n",
       "10                1      1  \n",
       "14                1      0  "
      ]
     },
     "execution_count": 36,
     "metadata": {},
     "output_type": "execute_result"
    }
   ],
   "source": [
    "sample_incomplete_rows = clean_data[clean_data.isnull().any(axis=1)].head()\n",
    "sample_incomplete_rows"
   ]
  },
  {
   "cell_type": "markdown",
   "metadata": {},
   "source": [
    "## Dealing with missing columns"
   ]
  },
  {
   "cell_type": "code",
   "execution_count": 37,
   "metadata": {},
   "outputs": [
    {
     "data": {
      "text/html": [
       "<div>\n",
       "<style scoped>\n",
       "    .dataframe tbody tr th:only-of-type {\n",
       "        vertical-align: middle;\n",
       "    }\n",
       "\n",
       "    .dataframe tbody tr th {\n",
       "        vertical-align: top;\n",
       "    }\n",
       "\n",
       "    .dataframe thead th {\n",
       "        text-align: right;\n",
       "    }\n",
       "</style>\n",
       "<table border=\"1\" class=\"dataframe\">\n",
       "  <thead>\n",
       "    <tr style=\"text-align: right;\">\n",
       "      <th></th>\n",
       "      <th>CustServCalls</th>\n",
       "      <th>DayMins</th>\n",
       "      <th>MonthlyCharge</th>\n",
       "      <th>OverageFee</th>\n",
       "      <th>RoamMins</th>\n",
       "      <th>ContractRenewal</th>\n",
       "      <th>Churn</th>\n",
       "    </tr>\n",
       "  </thead>\n",
       "  <tbody>\n",
       "    <tr>\n",
       "      <th>count</th>\n",
       "      <td>3066.000000</td>\n",
       "      <td>3308.000000</td>\n",
       "      <td>3299.000000</td>\n",
       "      <td>3309.000000</td>\n",
       "      <td>3287.000000</td>\n",
       "      <td>3333.000000</td>\n",
       "      <td>3333.000000</td>\n",
       "    </tr>\n",
       "    <tr>\n",
       "      <th>mean</th>\n",
       "      <td>1.300065</td>\n",
       "      <td>179.946252</td>\n",
       "      <td>55.816338</td>\n",
       "      <td>10.061272</td>\n",
       "      <td>10.293368</td>\n",
       "      <td>0.903090</td>\n",
       "      <td>0.144914</td>\n",
       "    </tr>\n",
       "    <tr>\n",
       "      <th>std</th>\n",
       "      <td>0.972030</td>\n",
       "      <td>52.866353</td>\n",
       "      <td>15.781626</td>\n",
       "      <td>2.460551</td>\n",
       "      <td>2.604587</td>\n",
       "      <td>0.295879</td>\n",
       "      <td>0.352067</td>\n",
       "    </tr>\n",
       "    <tr>\n",
       "      <th>min</th>\n",
       "      <td>0.000000</td>\n",
       "      <td>35.100000</td>\n",
       "      <td>14.000000</td>\n",
       "      <td>3.220000</td>\n",
       "      <td>3.300000</td>\n",
       "      <td>0.000000</td>\n",
       "      <td>0.000000</td>\n",
       "    </tr>\n",
       "    <tr>\n",
       "      <th>25%</th>\n",
       "      <td>1.000000</td>\n",
       "      <td>144.000000</td>\n",
       "      <td>45.000000</td>\n",
       "      <td>8.350000</td>\n",
       "      <td>8.500000</td>\n",
       "      <td>1.000000</td>\n",
       "      <td>0.000000</td>\n",
       "    </tr>\n",
       "    <tr>\n",
       "      <th>50%</th>\n",
       "      <td>1.000000</td>\n",
       "      <td>179.400000</td>\n",
       "      <td>53.000000</td>\n",
       "      <td>10.070000</td>\n",
       "      <td>10.300000</td>\n",
       "      <td>1.000000</td>\n",
       "      <td>0.000000</td>\n",
       "    </tr>\n",
       "    <tr>\n",
       "      <th>75%</th>\n",
       "      <td>2.000000</td>\n",
       "      <td>216.200000</td>\n",
       "      <td>65.750000</td>\n",
       "      <td>11.760000</td>\n",
       "      <td>12.100000</td>\n",
       "      <td>1.000000</td>\n",
       "      <td>0.000000</td>\n",
       "    </tr>\n",
       "    <tr>\n",
       "      <th>max</th>\n",
       "      <td>3.000000</td>\n",
       "      <td>324.700000</td>\n",
       "      <td>97.600000</td>\n",
       "      <td>16.860000</td>\n",
       "      <td>17.500000</td>\n",
       "      <td>1.000000</td>\n",
       "      <td>1.000000</td>\n",
       "    </tr>\n",
       "  </tbody>\n",
       "</table>\n",
       "</div>"
      ],
      "text/plain": [
       "       CustServCalls      DayMins  MonthlyCharge   OverageFee     RoamMins  \\\n",
       "count    3066.000000  3308.000000    3299.000000  3309.000000  3287.000000   \n",
       "mean        1.300065   179.946252      55.816338    10.061272    10.293368   \n",
       "std         0.972030    52.866353      15.781626     2.460551     2.604587   \n",
       "min         0.000000    35.100000      14.000000     3.220000     3.300000   \n",
       "25%         1.000000   144.000000      45.000000     8.350000     8.500000   \n",
       "50%         1.000000   179.400000      53.000000    10.070000    10.300000   \n",
       "75%         2.000000   216.200000      65.750000    11.760000    12.100000   \n",
       "max         3.000000   324.700000      97.600000    16.860000    17.500000   \n",
       "\n",
       "       ContractRenewal        Churn  \n",
       "count      3333.000000  3333.000000  \n",
       "mean          0.903090     0.144914  \n",
       "std           0.295879     0.352067  \n",
       "min           0.000000     0.000000  \n",
       "25%           1.000000     0.000000  \n",
       "50%           1.000000     0.000000  \n",
       "75%           1.000000     0.000000  \n",
       "max           1.000000     1.000000  "
      ]
     },
     "execution_count": 37,
     "metadata": {},
     "output_type": "execute_result"
    }
   ],
   "source": [
    "clean_data.describe()"
   ]
  },
  {
   "cell_type": "code",
   "execution_count": 38,
   "metadata": {},
   "outputs": [],
   "source": [
    "# Imputation transformer for completing missing values.\n",
    "from sklearn.impute import SimpleImputer\n",
    "imputer = SimpleImputer(missing_values=np.nan, strategy=\"mean\")"
   ]
  },
  {
   "cell_type": "code",
   "execution_count": 39,
   "metadata": {},
   "outputs": [
    {
     "data": {
      "text/plain": [
       "SimpleImputer()"
      ]
     },
     "execution_count": 39,
     "metadata": {},
     "output_type": "execute_result"
    }
   ],
   "source": [
    "imputer.fit(clean_data)"
   ]
  },
  {
   "cell_type": "code",
   "execution_count": 40,
   "metadata": {},
   "outputs": [
    {
     "data": {
      "text/plain": [
       "array([1.30006523e+00, 1.79946252e+02, 5.58163383e+01, 1.00612723e+01,\n",
       "       1.02933678e+01, 9.03090309e-01, 1.44914491e-01])"
      ]
     },
     "execution_count": 40,
     "metadata": {},
     "output_type": "execute_result"
    }
   ],
   "source": [
    "imputer.statistics_"
   ]
  },
  {
   "cell_type": "code",
   "execution_count": 41,
   "metadata": {},
   "outputs": [
    {
     "data": {
      "text/plain": [
       "array([1.30006523e+00, 1.79946252e+02, 5.58163383e+01, 1.00612723e+01,\n",
       "       1.02933678e+01, 9.03090309e-01, 1.44914491e-01])"
      ]
     },
     "execution_count": 41,
     "metadata": {},
     "output_type": "execute_result"
    }
   ],
   "source": [
    "# Check that (.statistics_) is the same as manually computing the mean of each attribute:\n",
    "clean_data.mean().values"
   ]
  },
  {
   "cell_type": "code",
   "execution_count": 42,
   "metadata": {},
   "outputs": [],
   "source": [
    "# transform the training set by replacing missing values with the learned medians:\n",
    "a = imputer.transform(clean_data)"
   ]
  },
  {
   "cell_type": "code",
   "execution_count": 43,
   "metadata": {},
   "outputs": [],
   "source": [
    "final_data = pd.DataFrame(a, columns=clean_data.columns, index=clean_data.index)"
   ]
  },
  {
   "cell_type": "code",
   "execution_count": 44,
   "metadata": {},
   "outputs": [
    {
     "data": {
      "text/html": [
       "<div>\n",
       "<style scoped>\n",
       "    .dataframe tbody tr th:only-of-type {\n",
       "        vertical-align: middle;\n",
       "    }\n",
       "\n",
       "    .dataframe tbody tr th {\n",
       "        vertical-align: top;\n",
       "    }\n",
       "\n",
       "    .dataframe thead th {\n",
       "        text-align: right;\n",
       "    }\n",
       "</style>\n",
       "<table border=\"1\" class=\"dataframe\">\n",
       "  <thead>\n",
       "    <tr style=\"text-align: right;\">\n",
       "      <th></th>\n",
       "      <th>CustServCalls</th>\n",
       "      <th>DayMins</th>\n",
       "      <th>MonthlyCharge</th>\n",
       "      <th>OverageFee</th>\n",
       "      <th>RoamMins</th>\n",
       "      <th>ContractRenewal</th>\n",
       "      <th>Churn</th>\n",
       "    </tr>\n",
       "  </thead>\n",
       "  <tbody>\n",
       "    <tr>\n",
       "      <th>3</th>\n",
       "      <td>2.000000</td>\n",
       "      <td>299.4</td>\n",
       "      <td>57.0</td>\n",
       "      <td>10.061272</td>\n",
       "      <td>6.6</td>\n",
       "      <td>0.0</td>\n",
       "      <td>0.0</td>\n",
       "    </tr>\n",
       "    <tr>\n",
       "      <th>6</th>\n",
       "      <td>3.000000</td>\n",
       "      <td>218.2</td>\n",
       "      <td>87.3</td>\n",
       "      <td>10.061272</td>\n",
       "      <td>7.5</td>\n",
       "      <td>1.0</td>\n",
       "      <td>0.0</td>\n",
       "    </tr>\n",
       "    <tr>\n",
       "      <th>8</th>\n",
       "      <td>1.000000</td>\n",
       "      <td>184.5</td>\n",
       "      <td>63.9</td>\n",
       "      <td>10.061272</td>\n",
       "      <td>8.7</td>\n",
       "      <td>1.0</td>\n",
       "      <td>0.0</td>\n",
       "    </tr>\n",
       "    <tr>\n",
       "      <th>10</th>\n",
       "      <td>1.300065</td>\n",
       "      <td>129.1</td>\n",
       "      <td>44.9</td>\n",
       "      <td>11.430000</td>\n",
       "      <td>12.7</td>\n",
       "      <td>1.0</td>\n",
       "      <td>1.0</td>\n",
       "    </tr>\n",
       "    <tr>\n",
       "      <th>14</th>\n",
       "      <td>1.300065</td>\n",
       "      <td>120.7</td>\n",
       "      <td>47.0</td>\n",
       "      <td>15.360000</td>\n",
       "      <td>13.1</td>\n",
       "      <td>1.0</td>\n",
       "      <td>0.0</td>\n",
       "    </tr>\n",
       "  </tbody>\n",
       "</table>\n",
       "</div>"
      ],
      "text/plain": [
       "    CustServCalls  DayMins  MonthlyCharge  OverageFee  RoamMins  \\\n",
       "3        2.000000    299.4           57.0   10.061272       6.6   \n",
       "6        3.000000    218.2           87.3   10.061272       7.5   \n",
       "8        1.000000    184.5           63.9   10.061272       8.7   \n",
       "10       1.300065    129.1           44.9   11.430000      12.7   \n",
       "14       1.300065    120.7           47.0   15.360000      13.1   \n",
       "\n",
       "    ContractRenewal  Churn  \n",
       "3               0.0    0.0  \n",
       "6               1.0    0.0  \n",
       "8               1.0    0.0  \n",
       "10              1.0    1.0  \n",
       "14              1.0    0.0  "
      ]
     },
     "execution_count": 44,
     "metadata": {},
     "output_type": "execute_result"
    }
   ],
   "source": [
    "final_data.loc[sample_incomplete_rows.index.values]"
   ]
  },
  {
   "cell_type": "code",
   "execution_count": 45,
   "metadata": {},
   "outputs": [
    {
     "data": {
      "text/plain": [
       "CustServCalls      0\n",
       "DayMins            0\n",
       "MonthlyCharge      0\n",
       "OverageFee         0\n",
       "RoamMins           0\n",
       "ContractRenewal    0\n",
       "Churn              0\n",
       "dtype: int64"
      ]
     },
     "execution_count": 45,
     "metadata": {},
     "output_type": "execute_result"
    }
   ],
   "source": [
    "final_data.isnull().sum()"
   ]
  },
  {
   "cell_type": "markdown",
   "metadata": {},
   "source": [
    "no more missing values"
   ]
  },
  {
   "cell_type": "code",
   "execution_count": 46,
   "metadata": {},
   "outputs": [
    {
     "name": "stdout",
     "output_type": "stream",
     "text": [
      "CustServCalls      0.298072\n",
      "DayMins           -0.001975\n",
      "MonthlyCharge      0.488843\n",
      "OverageFee         0.008133\n",
      "RoamMins          -0.038412\n",
      "ContractRenewal   -2.726332\n",
      "Churn              2.018356\n",
      "dtype: float64\n"
     ]
    }
   ],
   "source": [
    "print(final_data.skew())"
   ]
  },
  {
   "cell_type": "markdown",
   "metadata": {},
   "source": [
    "checked for outliers, all the columns are ok except for which the explanations can be found in the outlier section of this notebook."
   ]
  },
  {
   "cell_type": "markdown",
   "metadata": {},
   "source": [
    "## Data Sampling"
   ]
  },
  {
   "cell_type": "markdown",
   "metadata": {},
   "source": [
    "Knowing the count for our target data as shown below. (This shows that our dataset is underesampled. Since our target value is '1'; it means we're meant to develop a model that is good at predicting churn(1) and not vice versa.)"
   ]
  },
  {
   "cell_type": "code",
   "execution_count": 47,
   "metadata": {},
   "outputs": [
    {
     "data": {
      "text/plain": [
       "0.0    2850\n",
       "1.0     483\n",
       "Name: Churn, dtype: int64"
      ]
     },
     "execution_count": 47,
     "metadata": {},
     "output_type": "execute_result"
    }
   ],
   "source": [
    "# 1 = Churn ; 0 = No Churn\n",
    "final_data.Churn.value_counts()"
   ]
  },
  {
   "cell_type": "code",
   "execution_count": 48,
   "metadata": {},
   "outputs": [
    {
     "data": {
      "image/png": "[encoded data removed]",
      "text/plain": [
       "<Figure size 432x288 with 1 Axes>"
      ]
     },
     "metadata": {
      "needs_background": "light"
     },
     "output_type": "display_data"
    }
   ],
   "source": [
    "sns.countplot(x = 'Churn', data = final_data);"
   ]
  },
  {
   "cell_type": "code",
   "execution_count": 49,
   "metadata": {},
   "outputs": [],
   "source": [
    "# sample split\n",
    "from sklearn.model_selection import train_test_split\n",
    "\n",
    "#x = final_data[['ContractRenewal', 'CustServCalls', 'DayMins', 'MonthlyCharge', 'OverageFee', 'RoamMins']]\n",
    "x = final_data.iloc[:,:-1]    # Predictors\n",
    "y = final_data.iloc[:, -1]    # Target\n",
    "\n",
    "x_train, x_test, y_train, y_test = train_test_split(x, y, test_size = 0.01, random_state = 42)"
   ]
  },
  {
   "cell_type": "code",
   "execution_count": 50,
   "metadata": {},
   "outputs": [
    {
     "name": "stdout",
     "output_type": "stream",
     "text": [
      "Before OverSampling, the shape of train_X: (3299, 6)\n",
      "Before OverSampling, the shape of train_y: (3299,) \n",
      "\n",
      "Before OverSampling, counts of label '1' in y_train is : 480\n",
      "Before OverSampling, counts of label '0' in y_train is : 2819 \n",
      "\n"
     ]
    }
   ],
   "source": [
    "print('Before OverSampling, the shape of train_X: {}'.format(x_train.shape)) \n",
    "print('Before OverSampling, the shape of train_y: {} \\n'.format(y_train.shape)) \n",
    "\n",
    "print(\"Before OverSampling, counts of label '1' in y_train is : {}\".format(sum(y_train == 1))) \n",
    "print(\"Before OverSampling, counts of label '0' in y_train is : {} \\n\".format(sum(y_train == 0))) \n"
   ]
  },
  {
   "cell_type": "code",
   "execution_count": 51,
   "metadata": {},
   "outputs": [
    {
     "name": "stdout",
     "output_type": "stream",
     "text": [
      "After OverSampling, the shape of train_X: (5691, 6)\n",
      "After OverSampling, the shape of train_y: (5691,) \n",
      "\n",
      "After OverSampling, counts of label '1 in y_train is ': 2872\n",
      "After OverSampling, counts of label '0'in y_train is: 2819\n"
     ]
    }
   ],
   "source": [
    "import imblearn\n",
    "from imblearn.over_sampling import ADASYN\n",
    "\n",
    "sampler = ADASYN(random_state=42)\n",
    "x_train_samp, y_train_samp = sampler.fit_sample(x_train, y_train.ravel()) # the new x and y but the sampled version\n",
    "\n",
    "print('After OverSampling, the shape of train_X: {}'.format(x_train_samp.shape)) \n",
    "print('After OverSampling, the shape of train_y: {} \\n'.format(y_train_samp.shape)) \n",
    "\n",
    "print(\"After OverSampling, counts of label '1 in y_train is ': {}\".format(sum(y_train_samp == 1))) \n",
    "print(\"After OverSampling, counts of label '0'in y_train is: {}\".format(sum(y_train_samp == 0))) "
   ]
  },
  {
   "cell_type": "markdown",
   "metadata": {},
   "source": [
    "## Creating the Data PyCaret will use to evaluate models"
   ]
  },
  {
   "cell_type": "code",
   "execution_count": 52,
   "metadata": {},
   "outputs": [
    {
     "data": {
      "text/plain": [
       "(5691, 6)"
      ]
     },
     "execution_count": 52,
     "metadata": {},
     "output_type": "execute_result"
    }
   ],
   "source": [
    "x_train_samp.shape"
   ]
  },
  {
   "cell_type": "code",
   "execution_count": 53,
   "metadata": {},
   "outputs": [
    {
     "data": {
      "text/plain": [
       "(5691,)"
      ]
     },
     "execution_count": 53,
     "metadata": {},
     "output_type": "execute_result"
    }
   ],
   "source": [
    "y_train_samp.shape"
   ]
  },
  {
   "cell_type": "code",
   "execution_count": 54,
   "metadata": {},
   "outputs": [],
   "source": [
    "pc_data = x_train_samp\n",
    "pc_data['Churn'] = y_train_samp"
   ]
  },
  {
   "cell_type": "code",
   "execution_count": 55,
   "metadata": {},
   "outputs": [
    {
     "data": {
      "text/html": [
       "<div>\n",
       "<style scoped>\n",
       "    .dataframe tbody tr th:only-of-type {\n",
       "        vertical-align: middle;\n",
       "    }\n",
       "\n",
       "    .dataframe tbody tr th {\n",
       "        vertical-align: top;\n",
       "    }\n",
       "\n",
       "    .dataframe thead th {\n",
       "        text-align: right;\n",
       "    }\n",
       "</style>\n",
       "<table border=\"1\" class=\"dataframe\">\n",
       "  <thead>\n",
       "    <tr style=\"text-align: right;\">\n",
       "      <th></th>\n",
       "      <th>CustServCalls</th>\n",
       "      <th>DayMins</th>\n",
       "      <th>MonthlyCharge</th>\n",
       "      <th>OverageFee</th>\n",
       "      <th>RoamMins</th>\n",
       "      <th>ContractRenewal</th>\n",
       "      <th>Churn</th>\n",
       "    </tr>\n",
       "  </thead>\n",
       "  <tbody>\n",
       "    <tr>\n",
       "      <th>0</th>\n",
       "      <td>1.000000</td>\n",
       "      <td>197.000000</td>\n",
       "      <td>51.0</td>\n",
       "      <td>10.13</td>\n",
       "      <td>9.1</td>\n",
       "      <td>1.0</td>\n",
       "      <td>0.0</td>\n",
       "    </tr>\n",
       "    <tr>\n",
       "      <th>1</th>\n",
       "      <td>2.000000</td>\n",
       "      <td>227.400000</td>\n",
       "      <td>54.0</td>\n",
       "      <td>8.80</td>\n",
       "      <td>6.3</td>\n",
       "      <td>1.0</td>\n",
       "      <td>0.0</td>\n",
       "    </tr>\n",
       "    <tr>\n",
       "      <th>2</th>\n",
       "      <td>1.000000</td>\n",
       "      <td>179.946252</td>\n",
       "      <td>17.0</td>\n",
       "      <td>8.09</td>\n",
       "      <td>10.6</td>\n",
       "      <td>1.0</td>\n",
       "      <td>0.0</td>\n",
       "    </tr>\n",
       "    <tr>\n",
       "      <th>3</th>\n",
       "      <td>0.000000</td>\n",
       "      <td>116.900000</td>\n",
       "      <td>69.7</td>\n",
       "      <td>11.62</td>\n",
       "      <td>11.0</td>\n",
       "      <td>1.0</td>\n",
       "      <td>0.0</td>\n",
       "    </tr>\n",
       "    <tr>\n",
       "      <th>4</th>\n",
       "      <td>1.300065</td>\n",
       "      <td>103.500000</td>\n",
       "      <td>32.0</td>\n",
       "      <td>5.90</td>\n",
       "      <td>12.0</td>\n",
       "      <td>1.0</td>\n",
       "      <td>1.0</td>\n",
       "    </tr>\n",
       "  </tbody>\n",
       "</table>\n",
       "</div>"
      ],
      "text/plain": [
       "   CustServCalls     DayMins  MonthlyCharge  OverageFee  RoamMins  \\\n",
       "0       1.000000  197.000000           51.0       10.13       9.1   \n",
       "1       2.000000  227.400000           54.0        8.80       6.3   \n",
       "2       1.000000  179.946252           17.0        8.09      10.6   \n",
       "3       0.000000  116.900000           69.7       11.62      11.0   \n",
       "4       1.300065  103.500000           32.0        5.90      12.0   \n",
       "\n",
       "   ContractRenewal  Churn  \n",
       "0              1.0    0.0  \n",
       "1              1.0    0.0  \n",
       "2              1.0    0.0  \n",
       "3              1.0    0.0  \n",
       "4              1.0    1.0  "
      ]
     },
     "execution_count": 55,
     "metadata": {},
     "output_type": "execute_result"
    }
   ],
   "source": [
    "pc_data.head()"
   ]
  },
  {
   "cell_type": "markdown",
   "metadata": {},
   "source": [
    "During the process of finding the mean of some missing values, some colums with originally integer datatypes were converted to float datatypes. The cell below helps to convert those affected columns back to integer values."
   ]
  },
  {
   "cell_type": "code",
   "execution_count": 56,
   "metadata": {},
   "outputs": [],
   "source": [
    "pc_data = pc_data.astype({\"CustServCalls\":'int', \"Churn\":'int', \"ContractRenewal\":'int'}) "
   ]
  },
  {
   "cell_type": "code",
   "execution_count": 57,
   "metadata": {},
   "outputs": [
    {
     "data": {
      "text/html": [
       "<div>\n",
       "<style scoped>\n",
       "    .dataframe tbody tr th:only-of-type {\n",
       "        vertical-align: middle;\n",
       "    }\n",
       "\n",
       "    .dataframe tbody tr th {\n",
       "        vertical-align: top;\n",
       "    }\n",
       "\n",
       "    .dataframe thead th {\n",
       "        text-align: right;\n",
       "    }\n",
       "</style>\n",
       "<table border=\"1\" class=\"dataframe\">\n",
       "  <thead>\n",
       "    <tr style=\"text-align: right;\">\n",
       "      <th></th>\n",
       "      <th>CustServCalls</th>\n",
       "      <th>DayMins</th>\n",
       "      <th>MonthlyCharge</th>\n",
       "      <th>OverageFee</th>\n",
       "      <th>RoamMins</th>\n",
       "      <th>ContractRenewal</th>\n",
       "      <th>Churn</th>\n",
       "    </tr>\n",
       "  </thead>\n",
       "  <tbody>\n",
       "    <tr>\n",
       "      <th>0</th>\n",
       "      <td>1</td>\n",
       "      <td>197.000000</td>\n",
       "      <td>51.0</td>\n",
       "      <td>10.13</td>\n",
       "      <td>9.1</td>\n",
       "      <td>1</td>\n",
       "      <td>0</td>\n",
       "    </tr>\n",
       "    <tr>\n",
       "      <th>1</th>\n",
       "      <td>2</td>\n",
       "      <td>227.400000</td>\n",
       "      <td>54.0</td>\n",
       "      <td>8.80</td>\n",
       "      <td>6.3</td>\n",
       "      <td>1</td>\n",
       "      <td>0</td>\n",
       "    </tr>\n",
       "    <tr>\n",
       "      <th>2</th>\n",
       "      <td>1</td>\n",
       "      <td>179.946252</td>\n",
       "      <td>17.0</td>\n",
       "      <td>8.09</td>\n",
       "      <td>10.6</td>\n",
       "      <td>1</td>\n",
       "      <td>0</td>\n",
       "    </tr>\n",
       "    <tr>\n",
       "      <th>3</th>\n",
       "      <td>0</td>\n",
       "      <td>116.900000</td>\n",
       "      <td>69.7</td>\n",
       "      <td>11.62</td>\n",
       "      <td>11.0</td>\n",
       "      <td>1</td>\n",
       "      <td>0</td>\n",
       "    </tr>\n",
       "    <tr>\n",
       "      <th>4</th>\n",
       "      <td>1</td>\n",
       "      <td>103.500000</td>\n",
       "      <td>32.0</td>\n",
       "      <td>5.90</td>\n",
       "      <td>12.0</td>\n",
       "      <td>1</td>\n",
       "      <td>1</td>\n",
       "    </tr>\n",
       "  </tbody>\n",
       "</table>\n",
       "</div>"
      ],
      "text/plain": [
       "   CustServCalls     DayMins  MonthlyCharge  OverageFee  RoamMins  \\\n",
       "0              1  197.000000           51.0       10.13       9.1   \n",
       "1              2  227.400000           54.0        8.80       6.3   \n",
       "2              1  179.946252           17.0        8.09      10.6   \n",
       "3              0  116.900000           69.7       11.62      11.0   \n",
       "4              1  103.500000           32.0        5.90      12.0   \n",
       "\n",
       "   ContractRenewal  Churn  \n",
       "0                1      0  \n",
       "1                1      0  \n",
       "2                1      0  \n",
       "3                1      0  \n",
       "4                1      1  "
      ]
     },
     "execution_count": 57,
     "metadata": {},
     "output_type": "execute_result"
    }
   ],
   "source": [
    "pc_data.head()"
   ]
  },
  {
   "cell_type": "code",
   "execution_count": 58,
   "metadata": {},
   "outputs": [
    {
     "data": {
      "text/plain": [
       "CustServCalls      0\n",
       "DayMins            0\n",
       "MonthlyCharge      0\n",
       "OverageFee         0\n",
       "RoamMins           0\n",
       "ContractRenewal    0\n",
       "Churn              0\n",
       "dtype: int64"
      ]
     },
     "execution_count": 58,
     "metadata": {},
     "output_type": "execute_result"
    }
   ],
   "source": [
    "pc_data.isnull().sum()"
   ]
  },
  {
   "cell_type": "markdown",
   "metadata": {},
   "source": [
    "## Using PyCaret to see which models performed well"
   ]
  },
  {
   "cell_type": "markdown",
   "metadata": {},
   "source": [
    "PyCaret's default metric is accuracy score."
   ]
  },
  {
   "cell_type": "code",
   "execution_count": 59,
   "metadata": {},
   "outputs": [],
   "source": [
    "#pip install pycaret --user"
   ]
  },
  {
   "cell_type": "code",
   "execution_count": 60,
   "metadata": {},
   "outputs": [
    {
     "name": "stdout",
     "output_type": "stream",
     "text": [
      "Pycaret: 2.2.0\n"
     ]
    }
   ],
   "source": [
    "import pycaret\n",
    "print('Pycaret: {}'.format(pycaret.__version__))"
   ]
  },
  {
   "cell_type": "code",
   "execution_count": 61,
   "metadata": {},
   "outputs": [
    {
     "data": {
      "text/plain": [
       "1    2872\n",
       "0    2819\n",
       "Name: Churn, dtype: int64"
      ]
     },
     "execution_count": 61,
     "metadata": {},
     "output_type": "execute_result"
    }
   ],
   "source": [
    "pc_data.Churn.value_counts()"
   ]
  },
  {
   "cell_type": "code",
   "execution_count": 62,
   "metadata": {},
   "outputs": [],
   "source": [
    "from pycaret.classification import *\n",
    "models = setup(data = pc_data, target = 'Churn',normalize = True, normalize_method = 'zscore',transformation = True,\n",
    "              verbose = False, html = True, train_size = 0.80,silent = True, session_id = 100, numeric_features = ['ContractRenewal', 'CustServCalls'])  \n",
    "\n",
    "#numeric_features = categorical values\n"
   ]
  },
  {
   "cell_type": "code",
   "execution_count": 63,
   "metadata": {},
   "outputs": [
    {
     "data": {
      "text/html": [
       "<style  type=\"text/css\" >\n",
       "    #T_6b8aac4c_4062_11eb_8e43_00155d8233e2 th {\n",
       "          text-align: left;\n",
       "    }#T_6b8aac4c_4062_11eb_8e43_00155d8233e2row0_col0,#T_6b8aac4c_4062_11eb_8e43_00155d8233e2row0_col4,#T_6b8aac4c_4062_11eb_8e43_00155d8233e2row1_col0,#T_6b8aac4c_4062_11eb_8e43_00155d8233e2row1_col1,#T_6b8aac4c_4062_11eb_8e43_00155d8233e2row1_col2,#T_6b8aac4c_4062_11eb_8e43_00155d8233e2row1_col3,#T_6b8aac4c_4062_11eb_8e43_00155d8233e2row1_col4,#T_6b8aac4c_4062_11eb_8e43_00155d8233e2row1_col5,#T_6b8aac4c_4062_11eb_8e43_00155d8233e2row1_col6,#T_6b8aac4c_4062_11eb_8e43_00155d8233e2row1_col7,#T_6b8aac4c_4062_11eb_8e43_00155d8233e2row2_col0,#T_6b8aac4c_4062_11eb_8e43_00155d8233e2row2_col1,#T_6b8aac4c_4062_11eb_8e43_00155d8233e2row2_col2,#T_6b8aac4c_4062_11eb_8e43_00155d8233e2row2_col3,#T_6b8aac4c_4062_11eb_8e43_00155d8233e2row2_col4,#T_6b8aac4c_4062_11eb_8e43_00155d8233e2row2_col5,#T_6b8aac4c_4062_11eb_8e43_00155d8233e2row2_col6,#T_6b8aac4c_4062_11eb_8e43_00155d8233e2row2_col7,#T_6b8aac4c_4062_11eb_8e43_00155d8233e2row3_col0,#T_6b8aac4c_4062_11eb_8e43_00155d8233e2row3_col1,#T_6b8aac4c_4062_11eb_8e43_00155d8233e2row3_col2,#T_6b8aac4c_4062_11eb_8e43_00155d8233e2row3_col3,#T_6b8aac4c_4062_11eb_8e43_00155d8233e2row3_col4,#T_6b8aac4c_4062_11eb_8e43_00155d8233e2row3_col5,#T_6b8aac4c_4062_11eb_8e43_00155d8233e2row3_col6,#T_6b8aac4c_4062_11eb_8e43_00155d8233e2row3_col7,#T_6b8aac4c_4062_11eb_8e43_00155d8233e2row4_col0,#T_6b8aac4c_4062_11eb_8e43_00155d8233e2row4_col1,#T_6b8aac4c_4062_11eb_8e43_00155d8233e2row4_col2,#T_6b8aac4c_4062_11eb_8e43_00155d8233e2row4_col3,#T_6b8aac4c_4062_11eb_8e43_00155d8233e2row4_col4,#T_6b8aac4c_4062_11eb_8e43_00155d8233e2row4_col5,#T_6b8aac4c_4062_11eb_8e43_00155d8233e2row4_col6,#T_6b8aac4c_4062_11eb_8e43_00155d8233e2row4_col7,#T_6b8aac4c_4062_11eb_8e43_00155d8233e2row5_col0,#T_6b8aac4c_4062_11eb_8e43_00155d8233e2row5_col1,#T_6b8aac4c_4062_11eb_8e43_00155d8233e2row5_col2,#T_6b8aac4c_4062_11eb_8e43_00155d8233e2row5_col3,#T_6b8aac4c_4062_11eb_8e43_00155d8233e2row5_col4,#T_6b8aac4c_4062_11eb_8e43_00155d8233e2row5_col5,#T_6b8aac4c_4062_11eb_8e43_00155d8233e2row5_col6,#T_6b8aac4c_4062_11eb_8e43_00155d8233e2row5_col7,#T_6b8aac4c_4062_11eb_8e43_00155d8233e2row6_col0,#T_6b8aac4c_4062_11eb_8e43_00155d8233e2row6_col1,#T_6b8aac4c_4062_11eb_8e43_00155d8233e2row6_col2,#T_6b8aac4c_4062_11eb_8e43_00155d8233e2row6_col3,#T_6b8aac4c_4062_11eb_8e43_00155d8233e2row6_col4,#T_6b8aac4c_4062_11eb_8e43_00155d8233e2row6_col5,#T_6b8aac4c_4062_11eb_8e43_00155d8233e2row6_col6,#T_6b8aac4c_4062_11eb_8e43_00155d8233e2row6_col7,#T_6b8aac4c_4062_11eb_8e43_00155d8233e2row7_col0,#T_6b8aac4c_4062_11eb_8e43_00155d8233e2row7_col1,#T_6b8aac4c_4062_11eb_8e43_00155d8233e2row7_col2,#T_6b8aac4c_4062_11eb_8e43_00155d8233e2row7_col3,#T_6b8aac4c_4062_11eb_8e43_00155d8233e2row7_col4,#T_6b8aac4c_4062_11eb_8e43_00155d8233e2row7_col5,#T_6b8aac4c_4062_11eb_8e43_00155d8233e2row7_col6,#T_6b8aac4c_4062_11eb_8e43_00155d8233e2row7_col7,#T_6b8aac4c_4062_11eb_8e43_00155d8233e2row8_col0,#T_6b8aac4c_4062_11eb_8e43_00155d8233e2row8_col1,#T_6b8aac4c_4062_11eb_8e43_00155d8233e2row8_col2,#T_6b8aac4c_4062_11eb_8e43_00155d8233e2row8_col3,#T_6b8aac4c_4062_11eb_8e43_00155d8233e2row8_col4,#T_6b8aac4c_4062_11eb_8e43_00155d8233e2row8_col5,#T_6b8aac4c_4062_11eb_8e43_00155d8233e2row8_col6,#T_6b8aac4c_4062_11eb_8e43_00155d8233e2row8_col7,#T_6b8aac4c_4062_11eb_8e43_00155d8233e2row9_col0,#T_6b8aac4c_4062_11eb_8e43_00155d8233e2row9_col1,#T_6b8aac4c_4062_11eb_8e43_00155d8233e2row9_col2,#T_6b8aac4c_4062_11eb_8e43_00155d8233e2row9_col3,#T_6b8aac4c_4062_11eb_8e43_00155d8233e2row9_col4,#T_6b8aac4c_4062_11eb_8e43_00155d8233e2row9_col5,#T_6b8aac4c_4062_11eb_8e43_00155d8233e2row9_col6,#T_6b8aac4c_4062_11eb_8e43_00155d8233e2row9_col7,#T_6b8aac4c_4062_11eb_8e43_00155d8233e2row10_col0,#T_6b8aac4c_4062_11eb_8e43_00155d8233e2row10_col1,#T_6b8aac4c_4062_11eb_8e43_00155d8233e2row10_col2,#T_6b8aac4c_4062_11eb_8e43_00155d8233e2row10_col3,#T_6b8aac4c_4062_11eb_8e43_00155d8233e2row10_col5,#T_6b8aac4c_4062_11eb_8e43_00155d8233e2row10_col6,#T_6b8aac4c_4062_11eb_8e43_00155d8233e2row10_col7,#T_6b8aac4c_4062_11eb_8e43_00155d8233e2row11_col0,#T_6b8aac4c_4062_11eb_8e43_00155d8233e2row11_col1,#T_6b8aac4c_4062_11eb_8e43_00155d8233e2row11_col2,#T_6b8aac4c_4062_11eb_8e43_00155d8233e2row11_col3,#T_6b8aac4c_4062_11eb_8e43_00155d8233e2row11_col4,#T_6b8aac4c_4062_11eb_8e43_00155d8233e2row11_col5,#T_6b8aac4c_4062_11eb_8e43_00155d8233e2row11_col6,#T_6b8aac4c_4062_11eb_8e43_00155d8233e2row11_col7,#T_6b8aac4c_4062_11eb_8e43_00155d8233e2row12_col0,#T_6b8aac4c_4062_11eb_8e43_00155d8233e2row12_col1,#T_6b8aac4c_4062_11eb_8e43_00155d8233e2row12_col2,#T_6b8aac4c_4062_11eb_8e43_00155d8233e2row12_col3,#T_6b8aac4c_4062_11eb_8e43_00155d8233e2row12_col4,#T_6b8aac4c_4062_11eb_8e43_00155d8233e2row12_col5,#T_6b8aac4c_4062_11eb_8e43_00155d8233e2row12_col6,#T_6b8aac4c_4062_11eb_8e43_00155d8233e2row12_col7,#T_6b8aac4c_4062_11eb_8e43_00155d8233e2row13_col0,#T_6b8aac4c_4062_11eb_8e43_00155d8233e2row13_col1,#T_6b8aac4c_4062_11eb_8e43_00155d8233e2row13_col2,#T_6b8aac4c_4062_11eb_8e43_00155d8233e2row13_col3,#T_6b8aac4c_4062_11eb_8e43_00155d8233e2row13_col4,#T_6b8aac4c_4062_11eb_8e43_00155d8233e2row13_col5,#T_6b8aac4c_4062_11eb_8e43_00155d8233e2row13_col6,#T_6b8aac4c_4062_11eb_8e43_00155d8233e2row13_col7,#T_6b8aac4c_4062_11eb_8e43_00155d8233e2row14_col0,#T_6b8aac4c_4062_11eb_8e43_00155d8233e2row14_col1,#T_6b8aac4c_4062_11eb_8e43_00155d8233e2row14_col2,#T_6b8aac4c_4062_11eb_8e43_00155d8233e2row14_col3,#T_6b8aac4c_4062_11eb_8e43_00155d8233e2row14_col4,#T_6b8aac4c_4062_11eb_8e43_00155d8233e2row14_col5,#T_6b8aac4c_4062_11eb_8e43_00155d8233e2row14_col6,#T_6b8aac4c_4062_11eb_8e43_00155d8233e2row14_col7{\n",
       "            text-align:  left;\n",
       "            text-align:  left;\n",
       "        }#T_6b8aac4c_4062_11eb_8e43_00155d8233e2row0_col1,#T_6b8aac4c_4062_11eb_8e43_00155d8233e2row0_col2,#T_6b8aac4c_4062_11eb_8e43_00155d8233e2row0_col3,#T_6b8aac4c_4062_11eb_8e43_00155d8233e2row0_col5,#T_6b8aac4c_4062_11eb_8e43_00155d8233e2row0_col6,#T_6b8aac4c_4062_11eb_8e43_00155d8233e2row0_col7,#T_6b8aac4c_4062_11eb_8e43_00155d8233e2row10_col4{\n",
       "            text-align:  left;\n",
       "            text-align:  left;\n",
       "            background-color:  yellow;\n",
       "        }#T_6b8aac4c_4062_11eb_8e43_00155d8233e2row0_col8,#T_6b8aac4c_4062_11eb_8e43_00155d8233e2row1_col8,#T_6b8aac4c_4062_11eb_8e43_00155d8233e2row2_col8,#T_6b8aac4c_4062_11eb_8e43_00155d8233e2row3_col8,#T_6b8aac4c_4062_11eb_8e43_00155d8233e2row4_col8,#T_6b8aac4c_4062_11eb_8e43_00155d8233e2row5_col8,#T_6b8aac4c_4062_11eb_8e43_00155d8233e2row6_col8,#T_6b8aac4c_4062_11eb_8e43_00155d8233e2row7_col8,#T_6b8aac4c_4062_11eb_8e43_00155d8233e2row8_col8,#T_6b8aac4c_4062_11eb_8e43_00155d8233e2row9_col8,#T_6b8aac4c_4062_11eb_8e43_00155d8233e2row11_col8,#T_6b8aac4c_4062_11eb_8e43_00155d8233e2row12_col8,#T_6b8aac4c_4062_11eb_8e43_00155d8233e2row13_col8,#T_6b8aac4c_4062_11eb_8e43_00155d8233e2row14_col8{\n",
       "            text-align:  left;\n",
       "            text-align:  left;\n",
       "            background-color:  lightgrey;\n",
       "        }#T_6b8aac4c_4062_11eb_8e43_00155d8233e2row10_col8{\n",
       "            text-align:  left;\n",
       "            text-align:  left;\n",
       "            background-color:  yellow;\n",
       "            background-color:  lightgrey;\n",
       "        }</style><table id=\"T_6b8aac4c_4062_11eb_8e43_00155d8233e2\" ><thead>    <tr>        <th class=\"blank level0\" ></th>        <th class=\"col_heading level0 col0\" >Model</th>        <th class=\"col_heading level0 col1\" >Accuracy</th>        <th class=\"col_heading level0 col2\" >AUC</th>        <th class=\"col_heading level0 col3\" >Recall</th>        <th class=\"col_heading level0 col4\" >Prec.</th>        <th class=\"col_heading level0 col5\" >F1</th>        <th class=\"col_heading level0 col6\" >Kappa</th>        <th class=\"col_heading level0 col7\" >MCC</th>        <th class=\"col_heading level0 col8\" >TT (Sec)</th>    </tr></thead><tbody>\n",
       "                <tr>\n",
       "                        <th id=\"T_6b8aac4c_4062_11eb_8e43_00155d8233e2level0_row0\" class=\"row_heading level0 row0\" >et</th>\n",
       "                        <td id=\"T_6b8aac4c_4062_11eb_8e43_00155d8233e2row0_col0\" class=\"data row0 col0\" >Extra Trees Classifier</td>\n",
       "                        <td id=\"T_6b8aac4c_4062_11eb_8e43_00155d8233e2row0_col1\" class=\"data row0 col1\" >0.8913</td>\n",
       "                        <td id=\"T_6b8aac4c_4062_11eb_8e43_00155d8233e2row0_col2\" class=\"data row0 col2\" >0.9548</td>\n",
       "                        <td id=\"T_6b8aac4c_4062_11eb_8e43_00155d8233e2row0_col3\" class=\"data row0 col3\" >0.9217</td>\n",
       "                        <td id=\"T_6b8aac4c_4062_11eb_8e43_00155d8233e2row0_col4\" class=\"data row0 col4\" >0.8718</td>\n",
       "                        <td id=\"T_6b8aac4c_4062_11eb_8e43_00155d8233e2row0_col5\" class=\"data row0 col5\" >0.8960</td>\n",
       "                        <td id=\"T_6b8aac4c_4062_11eb_8e43_00155d8233e2row0_col6\" class=\"data row0 col6\" >0.7823</td>\n",
       "                        <td id=\"T_6b8aac4c_4062_11eb_8e43_00155d8233e2row0_col7\" class=\"data row0 col7\" >0.7837</td>\n",
       "                        <td id=\"T_6b8aac4c_4062_11eb_8e43_00155d8233e2row0_col8\" class=\"data row0 col8\" >0.3230</td>\n",
       "            </tr>\n",
       "            <tr>\n",
       "                        <th id=\"T_6b8aac4c_4062_11eb_8e43_00155d8233e2level0_row1\" class=\"row_heading level0 row1\" >xgboost</th>\n",
       "                        <td id=\"T_6b8aac4c_4062_11eb_8e43_00155d8233e2row1_col0\" class=\"data row1 col0\" >Extreme Gradient Boosting</td>\n",
       "                        <td id=\"T_6b8aac4c_4062_11eb_8e43_00155d8233e2row1_col1\" class=\"data row1 col1\" >0.8886</td>\n",
       "                        <td id=\"T_6b8aac4c_4062_11eb_8e43_00155d8233e2row1_col2\" class=\"data row1 col2\" >0.9541</td>\n",
       "                        <td id=\"T_6b8aac4c_4062_11eb_8e43_00155d8233e2row1_col3\" class=\"data row1 col3\" >0.9070</td>\n",
       "                        <td id=\"T_6b8aac4c_4062_11eb_8e43_00155d8233e2row1_col4\" class=\"data row1 col4\" >0.8787</td>\n",
       "                        <td id=\"T_6b8aac4c_4062_11eb_8e43_00155d8233e2row1_col5\" class=\"data row1 col5\" >0.8922</td>\n",
       "                        <td id=\"T_6b8aac4c_4062_11eb_8e43_00155d8233e2row1_col6\" class=\"data row1 col6\" >0.7771</td>\n",
       "                        <td id=\"T_6b8aac4c_4062_11eb_8e43_00155d8233e2row1_col7\" class=\"data row1 col7\" >0.7782</td>\n",
       "                        <td id=\"T_6b8aac4c_4062_11eb_8e43_00155d8233e2row1_col8\" class=\"data row1 col8\" >0.4310</td>\n",
       "            </tr>\n",
       "            <tr>\n",
       "                        <th id=\"T_6b8aac4c_4062_11eb_8e43_00155d8233e2level0_row2\" class=\"row_heading level0 row2\" >rf</th>\n",
       "                        <td id=\"T_6b8aac4c_4062_11eb_8e43_00155d8233e2row2_col0\" class=\"data row2 col0\" >Random Forest Classifier</td>\n",
       "                        <td id=\"T_6b8aac4c_4062_11eb_8e43_00155d8233e2row2_col1\" class=\"data row2 col1\" >0.8858</td>\n",
       "                        <td id=\"T_6b8aac4c_4062_11eb_8e43_00155d8233e2row2_col2\" class=\"data row2 col2\" >0.9513</td>\n",
       "                        <td id=\"T_6b8aac4c_4062_11eb_8e43_00155d8233e2row2_col3\" class=\"data row2 col3\" >0.9122</td>\n",
       "                        <td id=\"T_6b8aac4c_4062_11eb_8e43_00155d8233e2row2_col4\" class=\"data row2 col4\" >0.8699</td>\n",
       "                        <td id=\"T_6b8aac4c_4062_11eb_8e43_00155d8233e2row2_col5\" class=\"data row2 col5\" >0.8904</td>\n",
       "                        <td id=\"T_6b8aac4c_4062_11eb_8e43_00155d8233e2row2_col6\" class=\"data row2 col6\" >0.7713</td>\n",
       "                        <td id=\"T_6b8aac4c_4062_11eb_8e43_00155d8233e2row2_col7\" class=\"data row2 col7\" >0.7725</td>\n",
       "                        <td id=\"T_6b8aac4c_4062_11eb_8e43_00155d8233e2row2_col8\" class=\"data row2 col8\" >0.4310</td>\n",
       "            </tr>\n",
       "            <tr>\n",
       "                        <th id=\"T_6b8aac4c_4062_11eb_8e43_00155d8233e2level0_row3\" class=\"row_heading level0 row3\" >lightgbm</th>\n",
       "                        <td id=\"T_6b8aac4c_4062_11eb_8e43_00155d8233e2row3_col0\" class=\"data row3 col0\" >Light Gradient Boosting Machine</td>\n",
       "                        <td id=\"T_6b8aac4c_4062_11eb_8e43_00155d8233e2row3_col1\" class=\"data row3 col1\" >0.8754</td>\n",
       "                        <td id=\"T_6b8aac4c_4062_11eb_8e43_00155d8233e2row3_col2\" class=\"data row3 col2\" >0.9459</td>\n",
       "                        <td id=\"T_6b8aac4c_4062_11eb_8e43_00155d8233e2row3_col3\" class=\"data row3 col3\" >0.8962</td>\n",
       "                        <td id=\"T_6b8aac4c_4062_11eb_8e43_00155d8233e2row3_col4\" class=\"data row3 col4\" >0.8645</td>\n",
       "                        <td id=\"T_6b8aac4c_4062_11eb_8e43_00155d8233e2row3_col5\" class=\"data row3 col5\" >0.8798</td>\n",
       "                        <td id=\"T_6b8aac4c_4062_11eb_8e43_00155d8233e2row3_col6\" class=\"data row3 col6\" >0.7507</td>\n",
       "                        <td id=\"T_6b8aac4c_4062_11eb_8e43_00155d8233e2row3_col7\" class=\"data row3 col7\" >0.7517</td>\n",
       "                        <td id=\"T_6b8aac4c_4062_11eb_8e43_00155d8233e2row3_col8\" class=\"data row3 col8\" >0.1440</td>\n",
       "            </tr>\n",
       "            <tr>\n",
       "                        <th id=\"T_6b8aac4c_4062_11eb_8e43_00155d8233e2level0_row4\" class=\"row_heading level0 row4\" >catboost</th>\n",
       "                        <td id=\"T_6b8aac4c_4062_11eb_8e43_00155d8233e2row4_col0\" class=\"data row4 col0\" >CatBoost Classifier</td>\n",
       "                        <td id=\"T_6b8aac4c_4062_11eb_8e43_00155d8233e2row4_col1\" class=\"data row4 col1\" >0.8733</td>\n",
       "                        <td id=\"T_6b8aac4c_4062_11eb_8e43_00155d8233e2row4_col2\" class=\"data row4 col2\" >0.9420</td>\n",
       "                        <td id=\"T_6b8aac4c_4062_11eb_8e43_00155d8233e2row4_col3\" class=\"data row4 col3\" >0.8979</td>\n",
       "                        <td id=\"T_6b8aac4c_4062_11eb_8e43_00155d8233e2row4_col4\" class=\"data row4 col4\" >0.8597</td>\n",
       "                        <td id=\"T_6b8aac4c_4062_11eb_8e43_00155d8233e2row4_col5\" class=\"data row4 col5\" >0.8782</td>\n",
       "                        <td id=\"T_6b8aac4c_4062_11eb_8e43_00155d8233e2row4_col6\" class=\"data row4 col6\" >0.7462</td>\n",
       "                        <td id=\"T_6b8aac4c_4062_11eb_8e43_00155d8233e2row4_col7\" class=\"data row4 col7\" >0.7474</td>\n",
       "                        <td id=\"T_6b8aac4c_4062_11eb_8e43_00155d8233e2row4_col8\" class=\"data row4 col8\" >3.6990</td>\n",
       "            </tr>\n",
       "            <tr>\n",
       "                        <th id=\"T_6b8aac4c_4062_11eb_8e43_00155d8233e2level0_row5\" class=\"row_heading level0 row5\" >dt</th>\n",
       "                        <td id=\"T_6b8aac4c_4062_11eb_8e43_00155d8233e2row5_col0\" class=\"data row5 col0\" >Decision Tree Classifier</td>\n",
       "                        <td id=\"T_6b8aac4c_4062_11eb_8e43_00155d8233e2row5_col1\" class=\"data row5 col1\" >0.8449</td>\n",
       "                        <td id=\"T_6b8aac4c_4062_11eb_8e43_00155d8233e2row5_col2\" class=\"data row5 col2\" >0.8446</td>\n",
       "                        <td id=\"T_6b8aac4c_4062_11eb_8e43_00155d8233e2row5_col3\" class=\"data row5 col3\" >0.8620</td>\n",
       "                        <td id=\"T_6b8aac4c_4062_11eb_8e43_00155d8233e2row5_col4\" class=\"data row5 col4\" >0.8386</td>\n",
       "                        <td id=\"T_6b8aac4c_4062_11eb_8e43_00155d8233e2row5_col5\" class=\"data row5 col5\" >0.8498</td>\n",
       "                        <td id=\"T_6b8aac4c_4062_11eb_8e43_00155d8233e2row5_col6\" class=\"data row5 col6\" >0.6896</td>\n",
       "                        <td id=\"T_6b8aac4c_4062_11eb_8e43_00155d8233e2row5_col7\" class=\"data row5 col7\" >0.6906</td>\n",
       "                        <td id=\"T_6b8aac4c_4062_11eb_8e43_00155d8233e2row5_col8\" class=\"data row5 col8\" >0.0150</td>\n",
       "            </tr>\n",
       "            <tr>\n",
       "                        <th id=\"T_6b8aac4c_4062_11eb_8e43_00155d8233e2level0_row6\" class=\"row_heading level0 row6\" >gbc</th>\n",
       "                        <td id=\"T_6b8aac4c_4062_11eb_8e43_00155d8233e2row6_col0\" class=\"data row6 col0\" >Gradient Boosting Classifier</td>\n",
       "                        <td id=\"T_6b8aac4c_4062_11eb_8e43_00155d8233e2row6_col1\" class=\"data row6 col1\" >0.8311</td>\n",
       "                        <td id=\"T_6b8aac4c_4062_11eb_8e43_00155d8233e2row6_col2\" class=\"data row6 col2\" >0.9087</td>\n",
       "                        <td id=\"T_6b8aac4c_4062_11eb_8e43_00155d8233e2row6_col3\" class=\"data row6 col3\" >0.8508</td>\n",
       "                        <td id=\"T_6b8aac4c_4062_11eb_8e43_00155d8233e2row6_col4\" class=\"data row6 col4\" >0.8234</td>\n",
       "                        <td id=\"T_6b8aac4c_4062_11eb_8e43_00155d8233e2row6_col5\" class=\"data row6 col5\" >0.8367</td>\n",
       "                        <td id=\"T_6b8aac4c_4062_11eb_8e43_00155d8233e2row6_col6\" class=\"data row6 col6\" >0.6619</td>\n",
       "                        <td id=\"T_6b8aac4c_4062_11eb_8e43_00155d8233e2row6_col7\" class=\"data row6 col7\" >0.6625</td>\n",
       "                        <td id=\"T_6b8aac4c_4062_11eb_8e43_00155d8233e2row6_col8\" class=\"data row6 col8\" >0.2100</td>\n",
       "            </tr>\n",
       "            <tr>\n",
       "                        <th id=\"T_6b8aac4c_4062_11eb_8e43_00155d8233e2level0_row7\" class=\"row_heading level0 row7\" >knn</th>\n",
       "                        <td id=\"T_6b8aac4c_4062_11eb_8e43_00155d8233e2row7_col0\" class=\"data row7 col0\" >K Neighbors Classifier</td>\n",
       "                        <td id=\"T_6b8aac4c_4062_11eb_8e43_00155d8233e2row7_col1\" class=\"data row7 col1\" >0.8229</td>\n",
       "                        <td id=\"T_6b8aac4c_4062_11eb_8e43_00155d8233e2row7_col2\" class=\"data row7 col2\" >0.8973</td>\n",
       "                        <td id=\"T_6b8aac4c_4062_11eb_8e43_00155d8233e2row7_col3\" class=\"data row7 col3\" >0.8910</td>\n",
       "                        <td id=\"T_6b8aac4c_4062_11eb_8e43_00155d8233e2row7_col4\" class=\"data row7 col4\" >0.7887</td>\n",
       "                        <td id=\"T_6b8aac4c_4062_11eb_8e43_00155d8233e2row7_col5\" class=\"data row7 col5\" >0.8366</td>\n",
       "                        <td id=\"T_6b8aac4c_4062_11eb_8e43_00155d8233e2row7_col6\" class=\"data row7 col6\" >0.6450</td>\n",
       "                        <td id=\"T_6b8aac4c_4062_11eb_8e43_00155d8233e2row7_col7\" class=\"data row7 col7\" >0.6511</td>\n",
       "                        <td id=\"T_6b8aac4c_4062_11eb_8e43_00155d8233e2row7_col8\" class=\"data row7 col8\" >0.0860</td>\n",
       "            </tr>\n",
       "            <tr>\n",
       "                        <th id=\"T_6b8aac4c_4062_11eb_8e43_00155d8233e2level0_row8\" class=\"row_heading level0 row8\" >ada</th>\n",
       "                        <td id=\"T_6b8aac4c_4062_11eb_8e43_00155d8233e2row8_col0\" class=\"data row8 col0\" >Ada Boost Classifier</td>\n",
       "                        <td id=\"T_6b8aac4c_4062_11eb_8e43_00155d8233e2row8_col1\" class=\"data row8 col1\" >0.7920</td>\n",
       "                        <td id=\"T_6b8aac4c_4062_11eb_8e43_00155d8233e2row8_col2\" class=\"data row8 col2\" >0.8654</td>\n",
       "                        <td id=\"T_6b8aac4c_4062_11eb_8e43_00155d8233e2row8_col3\" class=\"data row8 col3\" >0.7725</td>\n",
       "                        <td id=\"T_6b8aac4c_4062_11eb_8e43_00155d8233e2row8_col4\" class=\"data row8 col4\" >0.8112</td>\n",
       "                        <td id=\"T_6b8aac4c_4062_11eb_8e43_00155d8233e2row8_col5\" class=\"data row8 col5\" >0.7908</td>\n",
       "                        <td id=\"T_6b8aac4c_4062_11eb_8e43_00155d8233e2row8_col6\" class=\"data row8 col6\" >0.5841</td>\n",
       "                        <td id=\"T_6b8aac4c_4062_11eb_8e43_00155d8233e2row8_col7\" class=\"data row8 col7\" >0.5856</td>\n",
       "                        <td id=\"T_6b8aac4c_4062_11eb_8e43_00155d8233e2row8_col8\" class=\"data row8 col8\" >0.0930</td>\n",
       "            </tr>\n",
       "            <tr>\n",
       "                        <th id=\"T_6b8aac4c_4062_11eb_8e43_00155d8233e2level0_row9\" class=\"row_heading level0 row9\" >qda</th>\n",
       "                        <td id=\"T_6b8aac4c_4062_11eb_8e43_00155d8233e2row9_col0\" class=\"data row9 col0\" >Quadratic Discriminant Analysis</td>\n",
       "                        <td id=\"T_6b8aac4c_4062_11eb_8e43_00155d8233e2row9_col1\" class=\"data row9 col1\" >0.7221</td>\n",
       "                        <td id=\"T_6b8aac4c_4062_11eb_8e43_00155d8233e2row9_col2\" class=\"data row9 col2\" >0.8237</td>\n",
       "                        <td id=\"T_6b8aac4c_4062_11eb_8e43_00155d8233e2row9_col3\" class=\"data row9 col3\" >0.5268</td>\n",
       "                        <td id=\"T_6b8aac4c_4062_11eb_8e43_00155d8233e2row9_col4\" class=\"data row9 col4\" >0.8776</td>\n",
       "                        <td id=\"T_6b8aac4c_4062_11eb_8e43_00155d8233e2row9_col5\" class=\"data row9 col5\" >0.6578</td>\n",
       "                        <td id=\"T_6b8aac4c_4062_11eb_8e43_00155d8233e2row9_col6\" class=\"data row9 col6\" >0.4476</td>\n",
       "                        <td id=\"T_6b8aac4c_4062_11eb_8e43_00155d8233e2row9_col7\" class=\"data row9 col7\" >0.4895</td>\n",
       "                        <td id=\"T_6b8aac4c_4062_11eb_8e43_00155d8233e2row9_col8\" class=\"data row9 col8\" >0.0190</td>\n",
       "            </tr>\n",
       "            <tr>\n",
       "                        <th id=\"T_6b8aac4c_4062_11eb_8e43_00155d8233e2level0_row10\" class=\"row_heading level0 row10\" >nb</th>\n",
       "                        <td id=\"T_6b8aac4c_4062_11eb_8e43_00155d8233e2row10_col0\" class=\"data row10 col0\" >Naive Bayes</td>\n",
       "                        <td id=\"T_6b8aac4c_4062_11eb_8e43_00155d8233e2row10_col1\" class=\"data row10 col1\" >0.7052</td>\n",
       "                        <td id=\"T_6b8aac4c_4062_11eb_8e43_00155d8233e2row10_col2\" class=\"data row10 col2\" >0.7933</td>\n",
       "                        <td id=\"T_6b8aac4c_4062_11eb_8e43_00155d8233e2row10_col3\" class=\"data row10 col3\" >0.4862</td>\n",
       "                        <td id=\"T_6b8aac4c_4062_11eb_8e43_00155d8233e2row10_col4\" class=\"data row10 col4\" >0.8803</td>\n",
       "                        <td id=\"T_6b8aac4c_4062_11eb_8e43_00155d8233e2row10_col5\" class=\"data row10 col5\" >0.6257</td>\n",
       "                        <td id=\"T_6b8aac4c_4062_11eb_8e43_00155d8233e2row10_col6\" class=\"data row10 col6\" >0.4145</td>\n",
       "                        <td id=\"T_6b8aac4c_4062_11eb_8e43_00155d8233e2row10_col7\" class=\"data row10 col7\" >0.4648</td>\n",
       "                        <td id=\"T_6b8aac4c_4062_11eb_8e43_00155d8233e2row10_col8\" class=\"data row10 col8\" >0.0110</td>\n",
       "            </tr>\n",
       "            <tr>\n",
       "                        <th id=\"T_6b8aac4c_4062_11eb_8e43_00155d8233e2level0_row11\" class=\"row_heading level0 row11\" >svm</th>\n",
       "                        <td id=\"T_6b8aac4c_4062_11eb_8e43_00155d8233e2row11_col0\" class=\"data row11 col0\" >SVM - Linear Kernel</td>\n",
       "                        <td id=\"T_6b8aac4c_4062_11eb_8e43_00155d8233e2row11_col1\" class=\"data row11 col1\" >0.6990</td>\n",
       "                        <td id=\"T_6b8aac4c_4062_11eb_8e43_00155d8233e2row11_col2\" class=\"data row11 col2\" >0.0000</td>\n",
       "                        <td id=\"T_6b8aac4c_4062_11eb_8e43_00155d8233e2row11_col3\" class=\"data row11 col3\" >0.4936</td>\n",
       "                        <td id=\"T_6b8aac4c_4062_11eb_8e43_00155d8233e2row11_col4\" class=\"data row11 col4\" >0.8636</td>\n",
       "                        <td id=\"T_6b8aac4c_4062_11eb_8e43_00155d8233e2row11_col5\" class=\"data row11 col5\" >0.6230</td>\n",
       "                        <td id=\"T_6b8aac4c_4062_11eb_8e43_00155d8233e2row11_col6\" class=\"data row11 col6\" >0.4020</td>\n",
       "                        <td id=\"T_6b8aac4c_4062_11eb_8e43_00155d8233e2row11_col7\" class=\"data row11 col7\" >0.4496</td>\n",
       "                        <td id=\"T_6b8aac4c_4062_11eb_8e43_00155d8233e2row11_col8\" class=\"data row11 col8\" >0.0270</td>\n",
       "            </tr>\n",
       "            <tr>\n",
       "                        <th id=\"T_6b8aac4c_4062_11eb_8e43_00155d8233e2level0_row12\" class=\"row_heading level0 row12\" >ridge</th>\n",
       "                        <td id=\"T_6b8aac4c_4062_11eb_8e43_00155d8233e2row12_col0\" class=\"data row12 col0\" >Ridge Classifier</td>\n",
       "                        <td id=\"T_6b8aac4c_4062_11eb_8e43_00155d8233e2row12_col1\" class=\"data row12 col1\" >0.6988</td>\n",
       "                        <td id=\"T_6b8aac4c_4062_11eb_8e43_00155d8233e2row12_col2\" class=\"data row12 col2\" >0.0000</td>\n",
       "                        <td id=\"T_6b8aac4c_4062_11eb_8e43_00155d8233e2row12_col3\" class=\"data row12 col3\" >0.5108</td>\n",
       "                        <td id=\"T_6b8aac4c_4062_11eb_8e43_00155d8233e2row12_col4\" class=\"data row12 col4\" >0.8324</td>\n",
       "                        <td id=\"T_6b8aac4c_4062_11eb_8e43_00155d8233e2row12_col5\" class=\"data row12 col5\" >0.6325</td>\n",
       "                        <td id=\"T_6b8aac4c_4062_11eb_8e43_00155d8233e2row12_col6\" class=\"data row12 col6\" >0.4012</td>\n",
       "                        <td id=\"T_6b8aac4c_4062_11eb_8e43_00155d8233e2row12_col7\" class=\"data row12 col7\" >0.4361</td>\n",
       "                        <td id=\"T_6b8aac4c_4062_11eb_8e43_00155d8233e2row12_col8\" class=\"data row12 col8\" >0.0720</td>\n",
       "            </tr>\n",
       "            <tr>\n",
       "                        <th id=\"T_6b8aac4c_4062_11eb_8e43_00155d8233e2level0_row13\" class=\"row_heading level0 row13\" >lda</th>\n",
       "                        <td id=\"T_6b8aac4c_4062_11eb_8e43_00155d8233e2row13_col0\" class=\"data row13 col0\" >Linear Discriminant Analysis</td>\n",
       "                        <td id=\"T_6b8aac4c_4062_11eb_8e43_00155d8233e2row13_col1\" class=\"data row13 col1\" >0.6988</td>\n",
       "                        <td id=\"T_6b8aac4c_4062_11eb_8e43_00155d8233e2row13_col2\" class=\"data row13 col2\" >0.7601</td>\n",
       "                        <td id=\"T_6b8aac4c_4062_11eb_8e43_00155d8233e2row13_col3\" class=\"data row13 col3\" >0.5108</td>\n",
       "                        <td id=\"T_6b8aac4c_4062_11eb_8e43_00155d8233e2row13_col4\" class=\"data row13 col4\" >0.8324</td>\n",
       "                        <td id=\"T_6b8aac4c_4062_11eb_8e43_00155d8233e2row13_col5\" class=\"data row13 col5\" >0.6325</td>\n",
       "                        <td id=\"T_6b8aac4c_4062_11eb_8e43_00155d8233e2row13_col6\" class=\"data row13 col6\" >0.4012</td>\n",
       "                        <td id=\"T_6b8aac4c_4062_11eb_8e43_00155d8233e2row13_col7\" class=\"data row13 col7\" >0.4361</td>\n",
       "                        <td id=\"T_6b8aac4c_4062_11eb_8e43_00155d8233e2row13_col8\" class=\"data row13 col8\" >0.0180</td>\n",
       "            </tr>\n",
       "            <tr>\n",
       "                        <th id=\"T_6b8aac4c_4062_11eb_8e43_00155d8233e2level0_row14\" class=\"row_heading level0 row14\" >lr</th>\n",
       "                        <td id=\"T_6b8aac4c_4062_11eb_8e43_00155d8233e2row14_col0\" class=\"data row14 col0\" >Logistic Regression</td>\n",
       "                        <td id=\"T_6b8aac4c_4062_11eb_8e43_00155d8233e2row14_col1\" class=\"data row14 col1\" >0.6892</td>\n",
       "                        <td id=\"T_6b8aac4c_4062_11eb_8e43_00155d8233e2row14_col2\" class=\"data row14 col2\" >0.7604</td>\n",
       "                        <td id=\"T_6b8aac4c_4062_11eb_8e43_00155d8233e2row14_col3\" class=\"data row14 col3\" >0.5312</td>\n",
       "                        <td id=\"T_6b8aac4c_4062_11eb_8e43_00155d8233e2row14_col4\" class=\"data row14 col4\" >0.7891</td>\n",
       "                        <td id=\"T_6b8aac4c_4062_11eb_8e43_00155d8233e2row14_col5\" class=\"data row14 col5\" >0.6344</td>\n",
       "                        <td id=\"T_6b8aac4c_4062_11eb_8e43_00155d8233e2row14_col6\" class=\"data row14 col6\" >0.3814</td>\n",
       "                        <td id=\"T_6b8aac4c_4062_11eb_8e43_00155d8233e2row14_col7\" class=\"data row14 col7\" >0.4045</td>\n",
       "                        <td id=\"T_6b8aac4c_4062_11eb_8e43_00155d8233e2row14_col8\" class=\"data row14 col8\" >0.5420</td>\n",
       "            </tr>\n",
       "    </tbody></table>"
      ],
      "text/plain": [
       "<pandas.io.formats.style.Styler at 0x1e8218c9d68>"
      ]
     },
     "metadata": {},
     "output_type": "display_data"
    }
   ],
   "source": [
    "best3 = compare_models(n_select = 3)"
   ]
  },
  {
   "cell_type": "markdown",
   "metadata": {},
   "source": [
    "Extra Trees Classifier model performed the best in all the metrics except for the precision score where the Naive Bayes model performed better."
   ]
  },
  {
   "cell_type": "code",
   "execution_count": 64,
   "metadata": {},
   "outputs": [
    {
     "name": "stdout",
     "output_type": "stream",
     "text": [
      "\n",
      " best3[0] is: ExtraTreesClassifier(bootstrap=False, ccp_alpha=0.0, class_weight=None,\n",
      "                     criterion='gini', max_depth=None, max_features='auto',\n",
      "                     max_leaf_nodes=None, max_samples=None,\n",
      "                     min_impurity_decrease=0.0, min_impurity_split=None,\n",
      "                     min_samples_leaf=1, min_samples_split=2,\n",
      "                     min_weight_fraction_leaf=0.0, n_estimators=100, n_jobs=-1,\n",
      "                     oob_score=False, random_state=100, verbose=0,\n",
      "                     warm_start=False) \n",
      "\n",
      "\n",
      "\n",
      "\n",
      " best3[1] is: XGBClassifier(base_score=0.5, booster='gbtree', colsample_bylevel=1,\n",
      "              colsample_bynode=1, colsample_bytree=1, gamma=0, gpu_id=-1,\n",
      "              importance_type='gain', interaction_constraints='',\n",
      "              learning_rate=0.300000012, max_delta_step=0, max_depth=6,\n",
      "              min_child_weight=1, missing=nan, monotone_constraints='()',\n",
      "              n_estimators=100, n_jobs=-1, num_parallel_tree=1,\n",
      "              objective='binary:logistic', random_state=100, reg_alpha=0,\n",
      "              reg_lambda=1, scale_pos_weight=1, subsample=1, tree_method='auto',\n",
      "              use_label_encoder=True, validate_parameters=1, verbosity=0) \n",
      "\n",
      "\n",
      "\n",
      "\n",
      " best3[2] is: RandomForestClassifier(bootstrap=True, ccp_alpha=0.0, class_weight=None,\n",
      "                       criterion='gini', max_depth=None, max_features='auto',\n",
      "                       max_leaf_nodes=None, max_samples=None,\n",
      "                       min_impurity_decrease=0.0, min_impurity_split=None,\n",
      "                       min_samples_leaf=1, min_samples_split=2,\n",
      "                       min_weight_fraction_leaf=0.0, n_estimators=100,\n",
      "                       n_jobs=-1, oob_score=False, random_state=100, verbose=0,\n",
      "                       warm_start=False) \n",
      "\n",
      "\n",
      "\n"
     ]
    }
   ],
   "source": [
    "for count,i in enumerate(best3): \n",
    "    print('\\n','best3[{}] is: {}'.format(count,i), '\\n'*3 )"
   ]
  },
  {
   "cell_type": "markdown",
   "metadata": {},
   "source": [
    "Now, i'll carry out blending on the top three techniques. Blending is an ensemble technique that uses predictions from multiple models to generate a final set of predictions using voting / majority consensus from all of the models passed in the estimator_list parameter. "
   ]
  },
  {
   "cell_type": "markdown",
   "metadata": {},
   "source": [
    "## Blending"
   ]
  },
  {
   "cell_type": "code",
   "execution_count": 65,
   "metadata": {},
   "outputs": [
    {
     "data": {
      "text/html": [
       "<style  type=\"text/css\" >\n",
       "#T_deabaf08_4062_11eb_8d53_00155d8233e2row10_col0,#T_deabaf08_4062_11eb_8d53_00155d8233e2row10_col1,#T_deabaf08_4062_11eb_8d53_00155d8233e2row10_col2,#T_deabaf08_4062_11eb_8d53_00155d8233e2row10_col3,#T_deabaf08_4062_11eb_8d53_00155d8233e2row10_col4,#T_deabaf08_4062_11eb_8d53_00155d8233e2row10_col5,#T_deabaf08_4062_11eb_8d53_00155d8233e2row10_col6{\n",
       "            background:  yellow;\n",
       "        }</style><table id=\"T_deabaf08_4062_11eb_8d53_00155d8233e2\" ><thead>    <tr>        <th class=\"blank level0\" ></th>        <th class=\"col_heading level0 col0\" >Accuracy</th>        <th class=\"col_heading level0 col1\" >AUC</th>        <th class=\"col_heading level0 col2\" >Recall</th>        <th class=\"col_heading level0 col3\" >Prec.</th>        <th class=\"col_heading level0 col4\" >F1</th>        <th class=\"col_heading level0 col5\" >Kappa</th>        <th class=\"col_heading level0 col6\" >MCC</th>    </tr></thead><tbody>\n",
       "                <tr>\n",
       "                        <th id=\"T_deabaf08_4062_11eb_8d53_00155d8233e2level0_row0\" class=\"row_heading level0 row0\" >0</th>\n",
       "                        <td id=\"T_deabaf08_4062_11eb_8d53_00155d8233e2row0_col0\" class=\"data row0 col0\" >0.8794</td>\n",
       "                        <td id=\"T_deabaf08_4062_11eb_8d53_00155d8233e2row0_col1\" class=\"data row0 col1\" >0.9562</td>\n",
       "                        <td id=\"T_deabaf08_4062_11eb_8d53_00155d8233e2row0_col2\" class=\"data row0 col2\" >0.9181</td>\n",
       "                        <td id=\"T_deabaf08_4062_11eb_8d53_00155d8233e2row0_col3\" class=\"data row0 col3\" >0.8554</td>\n",
       "                        <td id=\"T_deabaf08_4062_11eb_8d53_00155d8233e2row0_col4\" class=\"data row0 col4\" >0.8857</td>\n",
       "                        <td id=\"T_deabaf08_4062_11eb_8d53_00155d8233e2row0_col5\" class=\"data row0 col5\" >0.7584</td>\n",
       "                        <td id=\"T_deabaf08_4062_11eb_8d53_00155d8233e2row0_col6\" class=\"data row0 col6\" >0.7605</td>\n",
       "            </tr>\n",
       "            <tr>\n",
       "                        <th id=\"T_deabaf08_4062_11eb_8d53_00155d8233e2level0_row1\" class=\"row_heading level0 row1\" >1</th>\n",
       "                        <td id=\"T_deabaf08_4062_11eb_8d53_00155d8233e2row1_col0\" class=\"data row1 col0\" >0.8553</td>\n",
       "                        <td id=\"T_deabaf08_4062_11eb_8d53_00155d8233e2row1_col1\" class=\"data row1 col1\" >0.9358</td>\n",
       "                        <td id=\"T_deabaf08_4062_11eb_8d53_00155d8233e2row1_col2\" class=\"data row1 col2\" >0.9095</td>\n",
       "                        <td id=\"T_deabaf08_4062_11eb_8d53_00155d8233e2row1_col3\" class=\"data row1 col3\" >0.8242</td>\n",
       "                        <td id=\"T_deabaf08_4062_11eb_8d53_00155d8233e2row1_col4\" class=\"data row1 col4\" >0.8648</td>\n",
       "                        <td id=\"T_deabaf08_4062_11eb_8d53_00155d8233e2row1_col5\" class=\"data row1 col5\" >0.7099</td>\n",
       "                        <td id=\"T_deabaf08_4062_11eb_8d53_00155d8233e2row1_col6\" class=\"data row1 col6\" >0.7139</td>\n",
       "            </tr>\n",
       "            <tr>\n",
       "                        <th id=\"T_deabaf08_4062_11eb_8d53_00155d8233e2level0_row2\" class=\"row_heading level0 row2\" >2</th>\n",
       "                        <td id=\"T_deabaf08_4062_11eb_8d53_00155d8233e2row2_col0\" class=\"data row2 col0\" >0.8989</td>\n",
       "                        <td id=\"T_deabaf08_4062_11eb_8d53_00155d8233e2row2_col1\" class=\"data row2 col1\" >0.9641</td>\n",
       "                        <td id=\"T_deabaf08_4062_11eb_8d53_00155d8233e2row2_col2\" class=\"data row2 col2\" >0.9307</td>\n",
       "                        <td id=\"T_deabaf08_4062_11eb_8d53_00155d8233e2row2_col3\" class=\"data row2 col3\" >0.8776</td>\n",
       "                        <td id=\"T_deabaf08_4062_11eb_8d53_00155d8233e2row2_col4\" class=\"data row2 col4\" >0.9034</td>\n",
       "                        <td id=\"T_deabaf08_4062_11eb_8d53_00155d8233e2row2_col5\" class=\"data row2 col5\" >0.7976</td>\n",
       "                        <td id=\"T_deabaf08_4062_11eb_8d53_00155d8233e2row2_col6\" class=\"data row2 col6\" >0.7991</td>\n",
       "            </tr>\n",
       "            <tr>\n",
       "                        <th id=\"T_deabaf08_4062_11eb_8d53_00155d8233e2level0_row3\" class=\"row_heading level0 row3\" >3</th>\n",
       "                        <td id=\"T_deabaf08_4062_11eb_8d53_00155d8233e2row3_col0\" class=\"data row3 col0\" >0.8989</td>\n",
       "                        <td id=\"T_deabaf08_4062_11eb_8d53_00155d8233e2row3_col1\" class=\"data row3 col1\" >0.9590</td>\n",
       "                        <td id=\"T_deabaf08_4062_11eb_8d53_00155d8233e2row3_col2\" class=\"data row3 col2\" >0.9177</td>\n",
       "                        <td id=\"T_deabaf08_4062_11eb_8d53_00155d8233e2row3_col3\" class=\"data row3 col3\" >0.8870</td>\n",
       "                        <td id=\"T_deabaf08_4062_11eb_8d53_00155d8233e2row3_col4\" class=\"data row3 col4\" >0.9021</td>\n",
       "                        <td id=\"T_deabaf08_4062_11eb_8d53_00155d8233e2row3_col5\" class=\"data row3 col5\" >0.7976</td>\n",
       "                        <td id=\"T_deabaf08_4062_11eb_8d53_00155d8233e2row3_col6\" class=\"data row3 col6\" >0.7981</td>\n",
       "            </tr>\n",
       "            <tr>\n",
       "                        <th id=\"T_deabaf08_4062_11eb_8d53_00155d8233e2level0_row4\" class=\"row_heading level0 row4\" >4</th>\n",
       "                        <td id=\"T_deabaf08_4062_11eb_8d53_00155d8233e2row4_col0\" class=\"data row4 col0\" >0.8857</td>\n",
       "                        <td id=\"T_deabaf08_4062_11eb_8d53_00155d8233e2row4_col1\" class=\"data row4 col1\" >0.9522</td>\n",
       "                        <td id=\"T_deabaf08_4062_11eb_8d53_00155d8233e2row4_col2\" class=\"data row4 col2\" >0.9134</td>\n",
       "                        <td id=\"T_deabaf08_4062_11eb_8d53_00155d8233e2row4_col3\" class=\"data row4 col3\" >0.8683</td>\n",
       "                        <td id=\"T_deabaf08_4062_11eb_8d53_00155d8233e2row4_col4\" class=\"data row4 col4\" >0.8903</td>\n",
       "                        <td id=\"T_deabaf08_4062_11eb_8d53_00155d8233e2row4_col5\" class=\"data row4 col5\" >0.7712</td>\n",
       "                        <td id=\"T_deabaf08_4062_11eb_8d53_00155d8233e2row4_col6\" class=\"data row4 col6\" >0.7723</td>\n",
       "            </tr>\n",
       "            <tr>\n",
       "                        <th id=\"T_deabaf08_4062_11eb_8d53_00155d8233e2level0_row5\" class=\"row_heading level0 row5\" >5</th>\n",
       "                        <td id=\"T_deabaf08_4062_11eb_8d53_00155d8233e2row5_col0\" class=\"data row5 col0\" >0.9143</td>\n",
       "                        <td id=\"T_deabaf08_4062_11eb_8d53_00155d8233e2row5_col1\" class=\"data row5 col1\" >0.9667</td>\n",
       "                        <td id=\"T_deabaf08_4062_11eb_8d53_00155d8233e2row5_col2\" class=\"data row5 col2\" >0.9307</td>\n",
       "                        <td id=\"T_deabaf08_4062_11eb_8d53_00155d8233e2row5_col3\" class=\"data row5 col3\" >0.9034</td>\n",
       "                        <td id=\"T_deabaf08_4062_11eb_8d53_00155d8233e2row5_col4\" class=\"data row5 col4\" >0.9168</td>\n",
       "                        <td id=\"T_deabaf08_4062_11eb_8d53_00155d8233e2row5_col5\" class=\"data row5 col5\" >0.8284</td>\n",
       "                        <td id=\"T_deabaf08_4062_11eb_8d53_00155d8233e2row5_col6\" class=\"data row5 col6\" >0.8288</td>\n",
       "            </tr>\n",
       "            <tr>\n",
       "                        <th id=\"T_deabaf08_4062_11eb_8d53_00155d8233e2level0_row6\" class=\"row_heading level0 row6\" >6</th>\n",
       "                        <td id=\"T_deabaf08_4062_11eb_8d53_00155d8233e2row6_col0\" class=\"data row6 col0\" >0.8967</td>\n",
       "                        <td id=\"T_deabaf08_4062_11eb_8d53_00155d8233e2row6_col1\" class=\"data row6 col1\" >0.9658</td>\n",
       "                        <td id=\"T_deabaf08_4062_11eb_8d53_00155d8233e2row6_col2\" class=\"data row6 col2\" >0.9134</td>\n",
       "                        <td id=\"T_deabaf08_4062_11eb_8d53_00155d8233e2row6_col3\" class=\"data row6 col3\" >0.8866</td>\n",
       "                        <td id=\"T_deabaf08_4062_11eb_8d53_00155d8233e2row6_col4\" class=\"data row6 col4\" >0.8998</td>\n",
       "                        <td id=\"T_deabaf08_4062_11eb_8d53_00155d8233e2row6_col5\" class=\"data row6 col5\" >0.7933</td>\n",
       "                        <td id=\"T_deabaf08_4062_11eb_8d53_00155d8233e2row6_col6\" class=\"data row6 col6\" >0.7936</td>\n",
       "            </tr>\n",
       "            <tr>\n",
       "                        <th id=\"T_deabaf08_4062_11eb_8d53_00155d8233e2level0_row7\" class=\"row_heading level0 row7\" >7</th>\n",
       "                        <td id=\"T_deabaf08_4062_11eb_8d53_00155d8233e2row7_col0\" class=\"data row7 col0\" >0.9209</td>\n",
       "                        <td id=\"T_deabaf08_4062_11eb_8d53_00155d8233e2row7_col1\" class=\"data row7 col1\" >0.9770</td>\n",
       "                        <td id=\"T_deabaf08_4062_11eb_8d53_00155d8233e2row7_col2\" class=\"data row7 col2\" >0.9307</td>\n",
       "                        <td id=\"T_deabaf08_4062_11eb_8d53_00155d8233e2row7_col3\" class=\"data row7 col3\" >0.9149</td>\n",
       "                        <td id=\"T_deabaf08_4062_11eb_8d53_00155d8233e2row7_col4\" class=\"data row7 col4\" >0.9227</td>\n",
       "                        <td id=\"T_deabaf08_4062_11eb_8d53_00155d8233e2row7_col5\" class=\"data row7 col5\" >0.8417</td>\n",
       "                        <td id=\"T_deabaf08_4062_11eb_8d53_00155d8233e2row7_col6\" class=\"data row7 col6\" >0.8418</td>\n",
       "            </tr>\n",
       "            <tr>\n",
       "                        <th id=\"T_deabaf08_4062_11eb_8d53_00155d8233e2level0_row8\" class=\"row_heading level0 row8\" >8</th>\n",
       "                        <td id=\"T_deabaf08_4062_11eb_8d53_00155d8233e2row8_col0\" class=\"data row8 col0\" >0.8923</td>\n",
       "                        <td id=\"T_deabaf08_4062_11eb_8d53_00155d8233e2row8_col1\" class=\"data row8 col1\" >0.9562</td>\n",
       "                        <td id=\"T_deabaf08_4062_11eb_8d53_00155d8233e2row8_col2\" class=\"data row8 col2\" >0.9264</td>\n",
       "                        <td id=\"T_deabaf08_4062_11eb_8d53_00155d8233e2row8_col3\" class=\"data row8 col3\" >0.8699</td>\n",
       "                        <td id=\"T_deabaf08_4062_11eb_8d53_00155d8233e2row8_col4\" class=\"data row8 col4\" >0.8973</td>\n",
       "                        <td id=\"T_deabaf08_4062_11eb_8d53_00155d8233e2row8_col5\" class=\"data row8 col5\" >0.7843</td>\n",
       "                        <td id=\"T_deabaf08_4062_11eb_8d53_00155d8233e2row8_col6\" class=\"data row8 col6\" >0.7861</td>\n",
       "            </tr>\n",
       "            <tr>\n",
       "                        <th id=\"T_deabaf08_4062_11eb_8d53_00155d8233e2level0_row9\" class=\"row_heading level0 row9\" >9</th>\n",
       "                        <td id=\"T_deabaf08_4062_11eb_8d53_00155d8233e2row9_col0\" class=\"data row9 col0\" >0.8967</td>\n",
       "                        <td id=\"T_deabaf08_4062_11eb_8d53_00155d8233e2row9_col1\" class=\"data row9 col1\" >0.9605</td>\n",
       "                        <td id=\"T_deabaf08_4062_11eb_8d53_00155d8233e2row9_col2\" class=\"data row9 col2\" >0.9134</td>\n",
       "                        <td id=\"T_deabaf08_4062_11eb_8d53_00155d8233e2row9_col3\" class=\"data row9 col3\" >0.8866</td>\n",
       "                        <td id=\"T_deabaf08_4062_11eb_8d53_00155d8233e2row9_col4\" class=\"data row9 col4\" >0.8998</td>\n",
       "                        <td id=\"T_deabaf08_4062_11eb_8d53_00155d8233e2row9_col5\" class=\"data row9 col5\" >0.7933</td>\n",
       "                        <td id=\"T_deabaf08_4062_11eb_8d53_00155d8233e2row9_col6\" class=\"data row9 col6\" >0.7936</td>\n",
       "            </tr>\n",
       "            <tr>\n",
       "                        <th id=\"T_deabaf08_4062_11eb_8d53_00155d8233e2level0_row10\" class=\"row_heading level0 row10\" >Mean</th>\n",
       "                        <td id=\"T_deabaf08_4062_11eb_8d53_00155d8233e2row10_col0\" class=\"data row10 col0\" >0.8939</td>\n",
       "                        <td id=\"T_deabaf08_4062_11eb_8d53_00155d8233e2row10_col1\" class=\"data row10 col1\" >0.9594</td>\n",
       "                        <td id=\"T_deabaf08_4062_11eb_8d53_00155d8233e2row10_col2\" class=\"data row10 col2\" >0.9204</td>\n",
       "                        <td id=\"T_deabaf08_4062_11eb_8d53_00155d8233e2row10_col3\" class=\"data row10 col3\" >0.8774</td>\n",
       "                        <td id=\"T_deabaf08_4062_11eb_8d53_00155d8233e2row10_col4\" class=\"data row10 col4\" >0.8983</td>\n",
       "                        <td id=\"T_deabaf08_4062_11eb_8d53_00155d8233e2row10_col5\" class=\"data row10 col5\" >0.7876</td>\n",
       "                        <td id=\"T_deabaf08_4062_11eb_8d53_00155d8233e2row10_col6\" class=\"data row10 col6\" >0.7888</td>\n",
       "            </tr>\n",
       "            <tr>\n",
       "                        <th id=\"T_deabaf08_4062_11eb_8d53_00155d8233e2level0_row11\" class=\"row_heading level0 row11\" >SD</th>\n",
       "                        <td id=\"T_deabaf08_4062_11eb_8d53_00155d8233e2row11_col0\" class=\"data row11 col0\" >0.0173</td>\n",
       "                        <td id=\"T_deabaf08_4062_11eb_8d53_00155d8233e2row11_col1\" class=\"data row11 col1\" >0.0103</td>\n",
       "                        <td id=\"T_deabaf08_4062_11eb_8d53_00155d8233e2row11_col2\" class=\"data row11 col2\" >0.0080</td>\n",
       "                        <td id=\"T_deabaf08_4062_11eb_8d53_00155d8233e2row11_col3\" class=\"data row11 col3\" >0.0241</td>\n",
       "                        <td id=\"T_deabaf08_4062_11eb_8d53_00155d8233e2row11_col4\" class=\"data row11 col4\" >0.0153</td>\n",
       "                        <td id=\"T_deabaf08_4062_11eb_8d53_00155d8233e2row11_col5\" class=\"data row11 col5\" >0.0347</td>\n",
       "                        <td id=\"T_deabaf08_4062_11eb_8d53_00155d8233e2row11_col6\" class=\"data row11 col6\" >0.0337</td>\n",
       "            </tr>\n",
       "    </tbody></table>"
      ],
      "text/plain": [
       "<pandas.io.formats.style.Styler at 0x1e827d41d68>"
      ]
     },
     "metadata": {},
     "output_type": "display_data"
    }
   ],
   "source": [
    "# blend top3 models from compare_models\n",
    "blend_top3 = blend_models(best3)"
   ]
  },
  {
   "cell_type": "markdown",
   "metadata": {},
   "source": [
    "From the blending result, the improvement is really negligible compared to the best performing model. The overall performance is still the same percentage(89%)."
   ]
  },
  {
   "cell_type": "markdown",
   "metadata": {},
   "source": [
    "Now i'll be carrying out feature importance on the best performing model. Best performing model = Extra Trees Classifier"
   ]
  },
  {
   "cell_type": "markdown",
   "metadata": {},
   "source": [
    "## Feature Importance"
   ]
  },
  {
   "cell_type": "code",
   "execution_count": 66,
   "metadata": {},
   "outputs": [
    {
     "data": {
      "text/html": [
       "<style  type=\"text/css\" >\n",
       "#T_b16530e8_4063_11eb_8cdb_00155d8233e2row10_col0,#T_b16530e8_4063_11eb_8cdb_00155d8233e2row10_col1,#T_b16530e8_4063_11eb_8cdb_00155d8233e2row10_col2,#T_b16530e8_4063_11eb_8cdb_00155d8233e2row10_col3,#T_b16530e8_4063_11eb_8cdb_00155d8233e2row10_col4,#T_b16530e8_4063_11eb_8cdb_00155d8233e2row10_col5,#T_b16530e8_4063_11eb_8cdb_00155d8233e2row10_col6{\n",
       "            background:  yellow;\n",
       "        }</style><table id=\"T_b16530e8_4063_11eb_8cdb_00155d8233e2\" ><thead>    <tr>        <th class=\"blank level0\" ></th>        <th class=\"col_heading level0 col0\" >Accuracy</th>        <th class=\"col_heading level0 col1\" >AUC</th>        <th class=\"col_heading level0 col2\" >Recall</th>        <th class=\"col_heading level0 col3\" >Prec.</th>        <th class=\"col_heading level0 col4\" >F1</th>        <th class=\"col_heading level0 col5\" >Kappa</th>        <th class=\"col_heading level0 col6\" >MCC</th>    </tr></thead><tbody>\n",
       "                <tr>\n",
       "                        <th id=\"T_b16530e8_4063_11eb_8cdb_00155d8233e2level0_row0\" class=\"row_heading level0 row0\" >0</th>\n",
       "                        <td id=\"T_b16530e8_4063_11eb_8cdb_00155d8233e2row0_col0\" class=\"data row0 col0\" >0.8728</td>\n",
       "                        <td id=\"T_b16530e8_4063_11eb_8cdb_00155d8233e2row0_col1\" class=\"data row0 col1\" >0.9470</td>\n",
       "                        <td id=\"T_b16530e8_4063_11eb_8cdb_00155d8233e2row0_col2\" class=\"data row0 col2\" >0.9009</td>\n",
       "                        <td id=\"T_b16530e8_4063_11eb_8cdb_00155d8233e2row0_col3\" class=\"data row0 col3\" >0.8566</td>\n",
       "                        <td id=\"T_b16530e8_4063_11eb_8cdb_00155d8233e2row0_col4\" class=\"data row0 col4\" >0.8782</td>\n",
       "                        <td id=\"T_b16530e8_4063_11eb_8cdb_00155d8233e2row0_col5\" class=\"data row0 col5\" >0.7453</td>\n",
       "                        <td id=\"T_b16530e8_4063_11eb_8cdb_00155d8233e2row0_col6\" class=\"data row0 col6\" >0.7463</td>\n",
       "            </tr>\n",
       "            <tr>\n",
       "                        <th id=\"T_b16530e8_4063_11eb_8cdb_00155d8233e2level0_row1\" class=\"row_heading level0 row1\" >1</th>\n",
       "                        <td id=\"T_b16530e8_4063_11eb_8cdb_00155d8233e2row1_col0\" class=\"data row1 col0\" >0.8640</td>\n",
       "                        <td id=\"T_b16530e8_4063_11eb_8cdb_00155d8233e2row1_col1\" class=\"data row1 col1\" >0.9336</td>\n",
       "                        <td id=\"T_b16530e8_4063_11eb_8cdb_00155d8233e2row1_col2\" class=\"data row1 col2\" >0.9095</td>\n",
       "                        <td id=\"T_b16530e8_4063_11eb_8cdb_00155d8233e2row1_col3\" class=\"data row1 col3\" >0.8373</td>\n",
       "                        <td id=\"T_b16530e8_4063_11eb_8cdb_00155d8233e2row1_col4\" class=\"data row1 col4\" >0.8719</td>\n",
       "                        <td id=\"T_b16530e8_4063_11eb_8cdb_00155d8233e2row1_col5\" class=\"data row1 col5\" >0.7276</td>\n",
       "                        <td id=\"T_b16530e8_4063_11eb_8cdb_00155d8233e2row1_col6\" class=\"data row1 col6\" >0.7304</td>\n",
       "            </tr>\n",
       "            <tr>\n",
       "                        <th id=\"T_b16530e8_4063_11eb_8cdb_00155d8233e2level0_row2\" class=\"row_heading level0 row2\" >2</th>\n",
       "                        <td id=\"T_b16530e8_4063_11eb_8cdb_00155d8233e2row2_col0\" class=\"data row2 col0\" >0.8791</td>\n",
       "                        <td id=\"T_b16530e8_4063_11eb_8cdb_00155d8233e2row2_col1\" class=\"data row2 col1\" >0.9592</td>\n",
       "                        <td id=\"T_b16530e8_4063_11eb_8cdb_00155d8233e2row2_col2\" class=\"data row2 col2\" >0.9134</td>\n",
       "                        <td id=\"T_b16530e8_4063_11eb_8cdb_00155d8233e2row2_col3\" class=\"data row2 col3\" >0.8577</td>\n",
       "                        <td id=\"T_b16530e8_4063_11eb_8cdb_00155d8233e2row2_col4\" class=\"data row2 col4\" >0.8847</td>\n",
       "                        <td id=\"T_b16530e8_4063_11eb_8cdb_00155d8233e2row2_col5\" class=\"data row2 col5\" >0.7579</td>\n",
       "                        <td id=\"T_b16530e8_4063_11eb_8cdb_00155d8233e2row2_col6\" class=\"data row2 col6\" >0.7596</td>\n",
       "            </tr>\n",
       "            <tr>\n",
       "                        <th id=\"T_b16530e8_4063_11eb_8cdb_00155d8233e2level0_row3\" class=\"row_heading level0 row3\" >3</th>\n",
       "                        <td id=\"T_b16530e8_4063_11eb_8cdb_00155d8233e2row3_col0\" class=\"data row3 col0\" >0.8923</td>\n",
       "                        <td id=\"T_b16530e8_4063_11eb_8cdb_00155d8233e2row3_col1\" class=\"data row3 col1\" >0.9564</td>\n",
       "                        <td id=\"T_b16530e8_4063_11eb_8cdb_00155d8233e2row3_col2\" class=\"data row3 col2\" >0.9177</td>\n",
       "                        <td id=\"T_b16530e8_4063_11eb_8cdb_00155d8233e2row3_col3\" class=\"data row3 col3\" >0.8760</td>\n",
       "                        <td id=\"T_b16530e8_4063_11eb_8cdb_00155d8233e2row3_col4\" class=\"data row3 col4\" >0.8964</td>\n",
       "                        <td id=\"T_b16530e8_4063_11eb_8cdb_00155d8233e2row3_col5\" class=\"data row3 col5\" >0.7844</td>\n",
       "                        <td id=\"T_b16530e8_4063_11eb_8cdb_00155d8233e2row3_col6\" class=\"data row3 col6\" >0.7853</td>\n",
       "            </tr>\n",
       "            <tr>\n",
       "                        <th id=\"T_b16530e8_4063_11eb_8cdb_00155d8233e2level0_row4\" class=\"row_heading level0 row4\" >4</th>\n",
       "                        <td id=\"T_b16530e8_4063_11eb_8cdb_00155d8233e2row4_col0\" class=\"data row4 col0\" >0.8857</td>\n",
       "                        <td id=\"T_b16530e8_4063_11eb_8cdb_00155d8233e2row4_col1\" class=\"data row4 col1\" >0.9474</td>\n",
       "                        <td id=\"T_b16530e8_4063_11eb_8cdb_00155d8233e2row4_col2\" class=\"data row4 col2\" >0.9221</td>\n",
       "                        <td id=\"T_b16530e8_4063_11eb_8cdb_00155d8233e2row4_col3\" class=\"data row4 col3\" >0.8623</td>\n",
       "                        <td id=\"T_b16530e8_4063_11eb_8cdb_00155d8233e2row4_col4\" class=\"data row4 col4\" >0.8912</td>\n",
       "                        <td id=\"T_b16530e8_4063_11eb_8cdb_00155d8233e2row4_col5\" class=\"data row4 col5\" >0.7711</td>\n",
       "                        <td id=\"T_b16530e8_4063_11eb_8cdb_00155d8233e2row4_col6\" class=\"data row4 col6\" >0.7730</td>\n",
       "            </tr>\n",
       "            <tr>\n",
       "                        <th id=\"T_b16530e8_4063_11eb_8cdb_00155d8233e2level0_row5\" class=\"row_heading level0 row5\" >5</th>\n",
       "                        <td id=\"T_b16530e8_4063_11eb_8cdb_00155d8233e2row5_col0\" class=\"data row5 col0\" >0.9033</td>\n",
       "                        <td id=\"T_b16530e8_4063_11eb_8cdb_00155d8233e2row5_col1\" class=\"data row5 col1\" >0.9661</td>\n",
       "                        <td id=\"T_b16530e8_4063_11eb_8cdb_00155d8233e2row5_col2\" class=\"data row5 col2\" >0.9264</td>\n",
       "                        <td id=\"T_b16530e8_4063_11eb_8cdb_00155d8233e2row5_col3\" class=\"data row5 col3\" >0.8880</td>\n",
       "                        <td id=\"T_b16530e8_4063_11eb_8cdb_00155d8233e2row5_col4\" class=\"data row5 col4\" >0.9068</td>\n",
       "                        <td id=\"T_b16530e8_4063_11eb_8cdb_00155d8233e2row5_col5\" class=\"data row5 col5\" >0.8064</td>\n",
       "                        <td id=\"T_b16530e8_4063_11eb_8cdb_00155d8233e2row5_col6\" class=\"data row5 col6\" >0.8072</td>\n",
       "            </tr>\n",
       "            <tr>\n",
       "                        <th id=\"T_b16530e8_4063_11eb_8cdb_00155d8233e2level0_row6\" class=\"row_heading level0 row6\" >6</th>\n",
       "                        <td id=\"T_b16530e8_4063_11eb_8cdb_00155d8233e2row6_col0\" class=\"data row6 col0\" >0.8835</td>\n",
       "                        <td id=\"T_b16530e8_4063_11eb_8cdb_00155d8233e2row6_col1\" class=\"data row6 col1\" >0.9582</td>\n",
       "                        <td id=\"T_b16530e8_4063_11eb_8cdb_00155d8233e2row6_col2\" class=\"data row6 col2\" >0.9177</td>\n",
       "                        <td id=\"T_b16530e8_4063_11eb_8cdb_00155d8233e2row6_col3\" class=\"data row6 col3\" >0.8618</td>\n",
       "                        <td id=\"T_b16530e8_4063_11eb_8cdb_00155d8233e2row6_col4\" class=\"data row6 col4\" >0.8889</td>\n",
       "                        <td id=\"T_b16530e8_4063_11eb_8cdb_00155d8233e2row6_col5\" class=\"data row6 col5\" >0.7667</td>\n",
       "                        <td id=\"T_b16530e8_4063_11eb_8cdb_00155d8233e2row6_col6\" class=\"data row6 col6\" >0.7684</td>\n",
       "            </tr>\n",
       "            <tr>\n",
       "                        <th id=\"T_b16530e8_4063_11eb_8cdb_00155d8233e2level0_row7\" class=\"row_heading level0 row7\" >7</th>\n",
       "                        <td id=\"T_b16530e8_4063_11eb_8cdb_00155d8233e2row7_col0\" class=\"data row7 col0\" >0.9319</td>\n",
       "                        <td id=\"T_b16530e8_4063_11eb_8cdb_00155d8233e2row7_col1\" class=\"data row7 col1\" >0.9759</td>\n",
       "                        <td id=\"T_b16530e8_4063_11eb_8cdb_00155d8233e2row7_col2\" class=\"data row7 col2\" >0.9524</td>\n",
       "                        <td id=\"T_b16530e8_4063_11eb_8cdb_00155d8233e2row7_col3\" class=\"data row7 col3\" >0.9167</td>\n",
       "                        <td id=\"T_b16530e8_4063_11eb_8cdb_00155d8233e2row7_col4\" class=\"data row7 col4\" >0.9342</td>\n",
       "                        <td id=\"T_b16530e8_4063_11eb_8cdb_00155d8233e2row7_col5\" class=\"data row7 col5\" >0.8636</td>\n",
       "                        <td id=\"T_b16530e8_4063_11eb_8cdb_00155d8233e2row7_col6\" class=\"data row7 col6\" >0.8643</td>\n",
       "            </tr>\n",
       "            <tr>\n",
       "                        <th id=\"T_b16530e8_4063_11eb_8cdb_00155d8233e2level0_row8\" class=\"row_heading level0 row8\" >8</th>\n",
       "                        <td id=\"T_b16530e8_4063_11eb_8cdb_00155d8233e2row8_col0\" class=\"data row8 col0\" >0.9011</td>\n",
       "                        <td id=\"T_b16530e8_4063_11eb_8cdb_00155d8233e2row8_col1\" class=\"data row8 col1\" >0.9491</td>\n",
       "                        <td id=\"T_b16530e8_4063_11eb_8cdb_00155d8233e2row8_col2\" class=\"data row8 col2\" >0.9307</td>\n",
       "                        <td id=\"T_b16530e8_4063_11eb_8cdb_00155d8233e2row8_col3\" class=\"data row8 col3\" >0.8811</td>\n",
       "                        <td id=\"T_b16530e8_4063_11eb_8cdb_00155d8233e2row8_col4\" class=\"data row8 col4\" >0.9053</td>\n",
       "                        <td id=\"T_b16530e8_4063_11eb_8cdb_00155d8233e2row8_col5\" class=\"data row8 col5\" >0.8020</td>\n",
       "                        <td id=\"T_b16530e8_4063_11eb_8cdb_00155d8233e2row8_col6\" class=\"data row8 col6\" >0.8033</td>\n",
       "            </tr>\n",
       "            <tr>\n",
       "                        <th id=\"T_b16530e8_4063_11eb_8cdb_00155d8233e2level0_row9\" class=\"row_heading level0 row9\" >9</th>\n",
       "                        <td id=\"T_b16530e8_4063_11eb_8cdb_00155d8233e2row9_col0\" class=\"data row9 col0\" >0.8989</td>\n",
       "                        <td id=\"T_b16530e8_4063_11eb_8cdb_00155d8233e2row9_col1\" class=\"data row9 col1\" >0.9556</td>\n",
       "                        <td id=\"T_b16530e8_4063_11eb_8cdb_00155d8233e2row9_col2\" class=\"data row9 col2\" >0.9264</td>\n",
       "                        <td id=\"T_b16530e8_4063_11eb_8cdb_00155d8233e2row9_col3\" class=\"data row9 col3\" >0.8807</td>\n",
       "                        <td id=\"T_b16530e8_4063_11eb_8cdb_00155d8233e2row9_col4\" class=\"data row9 col4\" >0.9030</td>\n",
       "                        <td id=\"T_b16530e8_4063_11eb_8cdb_00155d8233e2row9_col5\" class=\"data row9 col5\" >0.7976</td>\n",
       "                        <td id=\"T_b16530e8_4063_11eb_8cdb_00155d8233e2row9_col6\" class=\"data row9 col6\" >0.7987</td>\n",
       "            </tr>\n",
       "            <tr>\n",
       "                        <th id=\"T_b16530e8_4063_11eb_8cdb_00155d8233e2level0_row10\" class=\"row_heading level0 row10\" >Mean</th>\n",
       "                        <td id=\"T_b16530e8_4063_11eb_8cdb_00155d8233e2row10_col0\" class=\"data row10 col0\" >0.8913</td>\n",
       "                        <td id=\"T_b16530e8_4063_11eb_8cdb_00155d8233e2row10_col1\" class=\"data row10 col1\" >0.9548</td>\n",
       "                        <td id=\"T_b16530e8_4063_11eb_8cdb_00155d8233e2row10_col2\" class=\"data row10 col2\" >0.9217</td>\n",
       "                        <td id=\"T_b16530e8_4063_11eb_8cdb_00155d8233e2row10_col3\" class=\"data row10 col3\" >0.8718</td>\n",
       "                        <td id=\"T_b16530e8_4063_11eb_8cdb_00155d8233e2row10_col4\" class=\"data row10 col4\" >0.8960</td>\n",
       "                        <td id=\"T_b16530e8_4063_11eb_8cdb_00155d8233e2row10_col5\" class=\"data row10 col5\" >0.7823</td>\n",
       "                        <td id=\"T_b16530e8_4063_11eb_8cdb_00155d8233e2row10_col6\" class=\"data row10 col6\" >0.7837</td>\n",
       "            </tr>\n",
       "            <tr>\n",
       "                        <th id=\"T_b16530e8_4063_11eb_8cdb_00155d8233e2level0_row11\" class=\"row_heading level0 row11\" >SD</th>\n",
       "                        <td id=\"T_b16530e8_4063_11eb_8cdb_00155d8233e2row11_col0\" class=\"data row11 col0\" >0.0181</td>\n",
       "                        <td id=\"T_b16530e8_4063_11eb_8cdb_00155d8233e2row11_col1\" class=\"data row11 col1\" >0.0110</td>\n",
       "                        <td id=\"T_b16530e8_4063_11eb_8cdb_00155d8233e2row11_col2\" class=\"data row11 col2\" >0.0132</td>\n",
       "                        <td id=\"T_b16530e8_4063_11eb_8cdb_00155d8233e2row11_col3\" class=\"data row11 col3\" >0.0207</td>\n",
       "                        <td id=\"T_b16530e8_4063_11eb_8cdb_00155d8233e2row11_col4\" class=\"data row11 col4\" >0.0168</td>\n",
       "                        <td id=\"T_b16530e8_4063_11eb_8cdb_00155d8233e2row11_col5\" class=\"data row11 col5\" >0.0363</td>\n",
       "                        <td id=\"T_b16530e8_4063_11eb_8cdb_00155d8233e2row11_col6\" class=\"data row11 col6\" >0.0358</td>\n",
       "            </tr>\n",
       "    </tbody></table>"
      ],
      "text/plain": [
       "<pandas.io.formats.style.Styler at 0x1e827e1b940>"
      ]
     },
     "metadata": {},
     "output_type": "display_data"
    }
   ],
   "source": [
    "et = create_model('et')"
   ]
  },
  {
   "cell_type": "code",
   "execution_count": 67,
   "metadata": {},
   "outputs": [
    {
     "data": {
      "image/png": "[encoded data removed]",
      "text/plain": [
       "<Figure size 800x500 with 1 Axes>"
      ]
     },
     "metadata": {},
     "output_type": "display_data"
    }
   ],
   "source": [
    "plot_model(et, plot='feature')"
   ]
  },
  {
   "cell_type": "markdown",
   "metadata": {},
   "source": [
    "Feature Importance Plot: tells us the features to observe when determining the churn of any customer connected to this telecommunications company."
   ]
  },
  {
   "cell_type": "markdown",
   "metadata": {},
   "source": [
    "## Evaluation for the best performing model"
   ]
  },
  {
   "cell_type": "code",
   "execution_count": 98,
   "metadata": {},
   "outputs": [
    {
     "data": {
      "image/png": "[encoded data removed]",
      "text/plain": [
       "<Figure size 576x396 with 1 Axes>"
      ]
     },
     "metadata": {},
     "output_type": "display_data"
    }
   ],
   "source": [
    "plot_model(et, plot = 'confusion_matrix')"
   ]
  },
  {
   "cell_type": "code",
   "execution_count": 99,
   "metadata": {},
   "outputs": [
    {
     "data": {
      "image/png": "[encoded data removed]",
      "text/plain": [
       "<Figure size 576x396 with 2 Axes>"
      ]
     },
     "metadata": {},
     "output_type": "display_data"
    }
   ],
   "source": [
    "plot_model(et, plot = 'class_report')"
   ]
  },
  {
   "cell_type": "markdown",
   "metadata": {},
   "source": [
    "## Prediction on test sample"
   ]
  },
  {
   "cell_type": "markdown",
   "metadata": {},
   "source": [
    "All of the evaluation metrics we have seen above are cross validated results based on the training set (80%) only. Now, using our final trained model stored in the tuned_rf variable we will predict against the test sample and evaluate the metrics to see if they are different than the training results."
   ]
  },
  {
   "cell_type": "code",
   "execution_count": 101,
   "metadata": {},
   "outputs": [
    {
     "data": {
      "text/html": [
       "<style  type=\"text/css\" >\n",
       "</style><table id=\"T_422cd1cc_4075_11eb_9c37_00155d8233e2\" ><thead>    <tr>        <th class=\"blank level0\" ></th>        <th class=\"col_heading level0 col0\" >Model</th>        <th class=\"col_heading level0 col1\" >Accuracy</th>        <th class=\"col_heading level0 col2\" >AUC</th>        <th class=\"col_heading level0 col3\" >Recall</th>        <th class=\"col_heading level0 col4\" >Prec.</th>        <th class=\"col_heading level0 col5\" >F1</th>        <th class=\"col_heading level0 col6\" >Kappa</th>        <th class=\"col_heading level0 col7\" >MCC</th>    </tr></thead><tbody>\n",
       "                <tr>\n",
       "                        <th id=\"T_422cd1cc_4075_11eb_9c37_00155d8233e2level0_row0\" class=\"row_heading level0 row0\" >0</th>\n",
       "                        <td id=\"T_422cd1cc_4075_11eb_9c37_00155d8233e2row0_col0\" class=\"data row0 col0\" >Extra Trees Classifier</td>\n",
       "                        <td id=\"T_422cd1cc_4075_11eb_9c37_00155d8233e2row0_col1\" class=\"data row0 col1\" >0.8973</td>\n",
       "                        <td id=\"T_422cd1cc_4075_11eb_9c37_00155d8233e2row0_col2\" class=\"data row0 col2\" >0.9594</td>\n",
       "                        <td id=\"T_422cd1cc_4075_11eb_9c37_00155d8233e2row0_col3\" class=\"data row0 col3\" >0.9286</td>\n",
       "                        <td id=\"T_422cd1cc_4075_11eb_9c37_00155d8233e2row0_col4\" class=\"data row0 col4\" >0.8710</td>\n",
       "                        <td id=\"T_422cd1cc_4075_11eb_9c37_00155d8233e2row0_col5\" class=\"data row0 col5\" >0.8989</td>\n",
       "                        <td id=\"T_422cd1cc_4075_11eb_9c37_00155d8233e2row0_col6\" class=\"data row0 col6\" >0.7947</td>\n",
       "                        <td id=\"T_422cd1cc_4075_11eb_9c37_00155d8233e2row0_col7\" class=\"data row0 col7\" >0.7964</td>\n",
       "            </tr>\n",
       "    </tbody></table>"
      ],
      "text/plain": [
       "<pandas.io.formats.style.Styler at 0x1e8218c9c18>"
      ]
     },
     "metadata": {},
     "output_type": "display_data"
    }
   ],
   "source": [
    "predict_model(et);"
   ]
  },
  {
   "cell_type": "markdown",
   "metadata": {},
   "source": [
    "The results show our model is doing well"
   ]
  },
  {
   "cell_type": "code",
   "execution_count": null,
   "metadata": {},
   "outputs": [],
   "source": []
  }
 ],
 "metadata": {
  "kernelspec": {
   "display_name": "Python 3",
   "language": "python",
   "name": "python3"
  },
  "language_info": {
   "codemirror_mode": {
    "name": "ipython",
    "version": 3
   },
   "file_extension": ".py",
   "mimetype": "text/x-python",
   "name": "python",
   "nbconvert_exporter": "python",
   "pygments_lexer": "ipython3",
   "version": "3.7.3"
  }
 },
 "nbformat": 4,
 "nbformat_minor": 4
}
